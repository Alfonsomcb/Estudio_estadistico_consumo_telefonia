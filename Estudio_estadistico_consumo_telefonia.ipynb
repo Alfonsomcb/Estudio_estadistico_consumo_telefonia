{
 "cells": [
  {
   "cell_type": "markdown",
   "metadata": {},
   "source": [
    "\n",
    "¡Hola, Alfonso!\n",
    "\n",
    "Mi nombre es Tonatiuh Cruz. Me complace revisar tu proyecto hoy.\n",
    "\n",
    "Al identificar cualquier error inicialmente, simplemente los destacaré. Te animo a localizar y abordar los problemas de forma independiente como parte de tu preparación para un rol como data-analyst. En un entorno profesional, tu líder de equipo seguiría un enfoque similar. Si encuentras la tarea desafiante, proporcionaré una pista más específica en la próxima iteración.\n",
    "\n",
    "Encontrarás mis comentarios a continuación - **por favor no los muevas, modifiques o elimines**.\n",
    "\n",
    "Puedes encontrar mis comentarios en cajas verdes, amarillas o rojas como esta:\n",
    "\n",
    "<div class=\"alert alert-block alert-success\">\n",
    "<b>Comentario del revisor</b> <a class=\"tocSkip\"></a>\n",
    "\n",
    "Éxito. Todo está hecho correctamente.\n",
    "</div>\n",
    "\n",
    "<div class=\"alert alert-block alert-warning\">\n",
    "<b>Comentario del revisor</b> <a class=\"tocSkip\"></a>\n",
    "\n",
    "Observaciones. Algunas recomendaciones.\n",
    "</div>\n",
    "\n",
    "<div class=\"alert alert-block alert-danger\">\n",
    "<b>Comentario del revisor</b> <a class=\"tocSkip\"></a>\n",
    "\n",
    "Necesita corrección. El bloque requiere algunas correcciones. El trabajo no puede ser aceptado con comentarios en rojo.\n",
    "</div>\n",
    "\n",
    "Puedes responderme utilizando esto:\n",
    "\n",
    "<div class=\"alert alert-block alert-info\">\n",
    "<b>Respuesta del estudiante.</b> <a class=\"tocSkip\"></a>\n",
    "\n"
   ]
  },
  {
   "cell_type": "markdown",
   "metadata": {
    "id": "3rYiDeEH0q0f"
   },
   "source": [
    "# ¿Cuál es la mejor tarifa?\n",
    "\n",
    "Trabajas como analista para el operador de telecomunicaciones Megaline. La empresa ofrece a sus clientes dos tarifas de prepago, Surf y Ultimate. El departamento comercial quiere saber cuál de las tarifas genera más ingresos para poder ajustar el presupuesto de publicidad.\n",
    "\n",
    "Vas a realizar un análisis preliminar de las tarifas basado en una selección de clientes relativamente pequeña. Tendrás los datos de 500 clientes de Megaline: quiénes son los clientes, de dónde son, qué tarifa usan, así como la cantidad de llamadas que hicieron y los mensajes de texto que enviaron en 2018. Tu trabajo es analizar el comportamiento de los clientes y determinar qué tarifa de prepago genera más ingresos."
   ]
  },
  {
   "cell_type": "markdown",
   "metadata": {
    "id": "VNddPNRQ0q0w"
   },
   "source": [
    "[Te proporcionamos algunos comentarios para orientarte mientras completas este proyecto. Pero debes asegurarte de eliminar todos los comentarios entre corchetes antes de entregar tu proyecto.]\n",
    "\n",
    "[Antes de sumergirte en el análisis de datos, explica por tu propia cuenta el propósito del proyecto y las acciones que planeas realizar.]\n",
    "\n",
    "[Ten en cuenta que estudiar, modificar y analizar datos es un proceso iterativo. Es normal volver a los pasos anteriores y corregirlos/ampliarlos para permitir nuevos pasos.]"
   ]
  },
  {
   "cell_type": "markdown",
   "metadata": {
    "id": "MQi4IPy70q0y"
   },
   "source": [
    "## Inicialización"
   ]
  },
  {
   "cell_type": "code",
   "execution_count": 1,
   "metadata": {
    "id": "MtYIuBxu0q0z"
   },
   "outputs": [],
   "source": [
    "# Cargar todas las librerías\n",
    "\n",
    "import pandas as pd\n",
    "import numpy as np\n",
    "from matplotlib import pyplot as plt\n",
    "import seaborn as sns\n",
    "from scipy import stats as st\n",
    "import math as mt\n"
   ]
  },
  {
   "cell_type": "markdown",
   "metadata": {},
   "source": [
    "<div class=\"alert alert-block alert-success\">\n",
    "<b>Comentario revisor</b> <a class=\"tocSkip\"></a>\n",
    "\n",
    "Gran trabajo con la carga de math para hacer el redondeo con otros métodos"
   ]
  },
  {
   "cell_type": "markdown",
   "metadata": {
    "id": "4ysWWC5i0q00"
   },
   "source": [
    "## Cargar datos"
   ]
  },
  {
   "cell_type": "code",
   "execution_count": 2,
   "metadata": {
    "id": "CCqPW7rS0q01"
   },
   "outputs": [],
   "source": [
    "# Carga los archivos de datos en diferentes DataFrames\n",
    "users=pd.read_csv(\"/datasets/megaline_users.csv\")\n",
    "plans=pd.read_csv(\"/datasets/megaline_plans.csv\")\n",
    "calls=pd.read_csv(\"/datasets/megaline_calls.csv\")\n",
    "internet=pd.read_csv(\"/datasets/megaline_internet.csv\")\n",
    "msn=pd.read_csv(\"/datasets/megaline_messages.csv\")\n",
    "\n"
   ]
  },
  {
   "cell_type": "markdown",
   "metadata": {
    "id": "69qqoJ3r0q01"
   },
   "source": [
    "## Preparar los datos"
   ]
  },
  {
   "cell_type": "markdown",
   "metadata": {
    "id": "vUuZw80S0q01"
   },
   "source": [
    "[Los datos para este proyecto se dividen en varias tablas. Explora cada una para tener una comprensión inicial de los datos. Si es necesario, haz las correcciones requeridas en cada tabla.]"
   ]
  },
  {
   "cell_type": "markdown",
   "metadata": {
    "id": "ohBhimvH0q01"
   },
   "source": [
    "## Tarifas"
   ]
  },
  {
   "cell_type": "code",
   "execution_count": 3,
   "metadata": {
    "id": "GptqP3Q40q02"
   },
   "outputs": [
    {
     "name": "stdout",
     "output_type": "stream",
     "text": [
      "<class 'pandas.core.frame.DataFrame'>\n",
      "RangeIndex: 2 entries, 0 to 1\n",
      "Data columns (total 8 columns):\n",
      " #   Column                 Non-Null Count  Dtype  \n",
      "---  ------                 --------------  -----  \n",
      " 0   messages_included      2 non-null      int64  \n",
      " 1   mb_per_month_included  2 non-null      int64  \n",
      " 2   minutes_included       2 non-null      int64  \n",
      " 3   usd_monthly_pay        2 non-null      int64  \n",
      " 4   usd_per_gb             2 non-null      int64  \n",
      " 5   usd_per_message        2 non-null      float64\n",
      " 6   usd_per_minute         2 non-null      float64\n",
      " 7   plan_name              2 non-null      object \n",
      "dtypes: float64(2), int64(5), object(1)\n",
      "memory usage: 256.0+ bytes\n",
      "None\n"
     ]
    }
   ],
   "source": [
    "# Imprime la información general/resumida sobre el DataFrame de las tarifas\n",
    "\n",
    "print(plans.info())"
   ]
  },
  {
   "cell_type": "code",
   "execution_count": 4,
   "metadata": {
    "id": "64xzjwL70q02"
   },
   "outputs": [
    {
     "name": "stdout",
     "output_type": "stream",
     "text": [
      "   messages_included  mb_per_month_included  minutes_included  \\\n",
      "0                 50                  15360               500   \n",
      "1               1000                  30720              3000   \n",
      "\n",
      "   usd_monthly_pay  usd_per_gb  usd_per_message  usd_per_minute plan_name  \n",
      "0               20          10             0.03            0.03      surf  \n",
      "1               70           7             0.01            0.01  ultimate  \n"
     ]
    }
   ],
   "source": [
    "# Imprime una muestra de los datos para las tarifas\n",
    "\n",
    "print(plans)"
   ]
  },
  {
   "cell_type": "markdown",
   "metadata": {
    "id": "mEc_3_hs0q02"
   },
   "source": [
    "[Describe lo que ves y observas en la información general y en la muestra de datos impresa para el precio de datos anterior. ¿Hay algún problema (tipos de datos no adecuados, datos ausentes, etc.) que pudieran necesitar investigación y cambios adicionales? ¿Cómo se puede arreglar?]\n",
    "\n",
    "No veo datos ausentes y los tipos de datos en las columas se ven bien en mi opinión. Sin embargo, en la descripción de la información dice que solo se utilizan GB  para poder medir el consumo de internet de los usuarios entonces para tener un mejor manejo de la información al momento de realizar operaciones futuras opté por cambiar la unidad de medida de esta columna."
   ]
  },
  {
   "cell_type": "markdown",
   "metadata": {
    "collapsed": false,
    "id": "R3C05i1l0q03",
    "jupyter": {
     "outputs_hidden": false
    }
   },
   "source": [
    "## Corregir datos"
   ]
  },
  {
   "cell_type": "markdown",
   "metadata": {
    "id": "bIi8StZI0q03"
   },
   "source": [
    "[Corrige los problemas obvios con los datos basándote en las observaciones iniciales.]"
   ]
  },
  {
   "cell_type": "code",
   "execution_count": 5,
   "metadata": {
    "id": "Y7SVmjGn0q03"
   },
   "outputs": [
    {
     "name": "stdout",
     "output_type": "stream",
     "text": [
      "   messages_included  gb_per_month_included  minutes_included  \\\n",
      "0                 50                   15.0               500   \n",
      "1               1000                   30.0              3000   \n",
      "\n",
      "   usd_monthly_pay  usd_per_gb  usd_per_message  usd_per_minute plan_name  \n",
      "0               20          10             0.03            0.03      surf  \n",
      "1               70           7             0.01            0.01  ultimate  \n"
     ]
    }
   ],
   "source": [
    "plans[\"mb_per_month_included\"]=plans[\"mb_per_month_included\"]/1024\n",
    "plans = plans.rename(columns={\"mb_per_month_included\": \"gb_per_month_included\"})\n",
    "print(plans)"
   ]
  },
  {
   "cell_type": "markdown",
   "metadata": {},
   "source": [
    "<div class=\"alert alert-block alert-success\">\n",
    "<b>Comentario del revisor</b> <a class=\"tocSkip\"></a>\n",
    "\n",
    "Muy buen trabajo!! Es correcto considerar que 1024 megabytes son 1 gigabytes.\n",
    "    \n",
    "</div>"
   ]
  },
  {
   "cell_type": "markdown",
   "metadata": {
    "id": "LJir7bml0q03"
   },
   "source": [
    "## Enriquecer los datos"
   ]
  },
  {
   "cell_type": "markdown",
   "metadata": {
    "id": "eqADpCfg0q04"
   },
   "source": [
    "[Agrega factores adicionales a los datos si crees que pudieran ser útiles.]"
   ]
  },
  {
   "cell_type": "code",
   "execution_count": 6,
   "metadata": {
    "id": "gfcIEuXV0q04"
   },
   "outputs": [],
   "source": [
    "#No veo alguno que valga la pena agregar hasta este momento"
   ]
  },
  {
   "cell_type": "markdown",
   "metadata": {
    "id": "1n2X6WXf0q04"
   },
   "source": [
    "## Usuarios/as"
   ]
  },
  {
   "cell_type": "code",
   "execution_count": 7,
   "metadata": {
    "id": "2NgjWFqx0q05"
   },
   "outputs": [
    {
     "name": "stdout",
     "output_type": "stream",
     "text": [
      "<class 'pandas.core.frame.DataFrame'>\n",
      "RangeIndex: 500 entries, 0 to 499\n",
      "Data columns (total 8 columns):\n",
      " #   Column      Non-Null Count  Dtype \n",
      "---  ------      --------------  ----- \n",
      " 0   user_id     500 non-null    int64 \n",
      " 1   first_name  500 non-null    object\n",
      " 2   last_name   500 non-null    object\n",
      " 3   age         500 non-null    int64 \n",
      " 4   city        500 non-null    object\n",
      " 5   reg_date    500 non-null    object\n",
      " 6   plan        500 non-null    object\n",
      " 7   churn_date  34 non-null     object\n",
      "dtypes: int64(2), object(6)\n",
      "memory usage: 31.4+ KB\n",
      "None\n"
     ]
    }
   ],
   "source": [
    "# Imprime la información general/resumida sobre el DataFrame de usuarios\n",
    "print(users.info())\n"
   ]
  },
  {
   "cell_type": "code",
   "execution_count": 8,
   "metadata": {
    "id": "1IN1L9uh0q05"
   },
   "outputs": [
    {
     "name": "stdout",
     "output_type": "stream",
     "text": [
      "     user_id first_name  last_name  age  \\\n",
      "227     1227     Vanesa     Willis   29   \n",
      "108     1108   Porfirio       Kane   45   \n",
      "442     1442    Terrell   Caldwell   66   \n",
      "9       1009      Gerry     Little   19   \n",
      "357     1357        Ria      Beach   61   \n",
      "44      1044     Devora   Galloway   74   \n",
      "12      1012    Jonelle    Mcbride   59   \n",
      "488     1488    Shirley      Jones   29   \n",
      "194     1194     Robert     Mclean   40   \n",
      "315     1315       Mora  Schroeder   45   \n",
      "\n",
      "                                          city    reg_date      plan  \\\n",
      "227        Dallas-Fort Worth-Arlington, TX MSA  2018-01-17      surf   \n",
      "108                     Salt Lake City, UT MSA  2018-12-30  ultimate   \n",
      "442  New York-Newark-Jersey City, NY-NJ-PA MSA  2018-05-25  ultimate   \n",
      "9       San Jose-Sunnyvale-Santa Clara, CA MSA  2018-04-22      surf   \n",
      "357                        Baton Rouge, LA MSA  2018-05-30      surf   \n",
      "44                         Albuquerque, NM MSA  2018-08-30      surf   \n",
      "12      Chicago-Naperville-Elgin, IL-IN-WI MSA  2018-06-28      surf   \n",
      "488                        Baton Rouge, LA MSA  2018-05-15      surf   \n",
      "194     San Jose-Sunnyvale-Santa Clara, CA MSA  2018-05-31      surf   \n",
      "315                       Raleigh-Cary, NC MSA  2018-04-26      surf   \n",
      "\n",
      "     churn_date  \n",
      "227         NaN  \n",
      "108         NaN  \n",
      "442         NaN  \n",
      "9           NaN  \n",
      "357         NaN  \n",
      "44          NaN  \n",
      "12   2018-11-16  \n",
      "488         NaN  \n",
      "194         NaN  \n",
      "315  2018-10-03  \n"
     ]
    }
   ],
   "source": [
    "# Imprime una muestra de datos para usuarios\n",
    "\n",
    "print(users.sample(10))"
   ]
  },
  {
   "cell_type": "markdown",
   "metadata": {
    "id": "dCZoUq4f0q06"
   },
   "source": [
    "[Describe lo que ves y observas en la información general y en la muestra de datos impresa para el precio de datos anterior. ¿Hay algún problema (tipos de datos no adecuados, datos ausentes, etc.) que pudieran necesitar investigación y cambios adicionales? ¿Cómo se puede arreglar?]\n",
    "\n",
    "1.- user_id aparece como int, me gustaría que fuera object\n",
    "\n",
    "2.- first, last name y city tienen mayusculas al principio, los movería a minusculas para evitar duplicados o si necesito citar informarción de alguno de ellos en especifico en un futuro.\n",
    "\n",
    "3.- separa la ciudad de la abreviatura.\n",
    "\n",
    "4.- cambiar reg_date y churn_date a datos tipo datatime\n",
    "\n",
    "5.- reemplazar los valores nulos en churn_date por la palabra \"none\""
   ]
  },
  {
   "cell_type": "markdown",
   "metadata": {
    "id": "BX5FQh_I0q06"
   },
   "source": [
    "### Corregir los datos"
   ]
  },
  {
   "cell_type": "markdown",
   "metadata": {
    "id": "8OdKMwJv0q06"
   },
   "source": [
    "[Corrige los problemas obvios con los datos basándote en las observaciones iniciales.]"
   ]
  },
  {
   "cell_type": "code",
   "execution_count": 9,
   "metadata": {
    "id": "yUqX-K0C0q07"
   },
   "outputs": [],
   "source": [
    "\n",
    "#1.- user_id aparece como int, me gustaría que fuera object\n",
    "users[\"user_id\"]=users[\"user_id\"].astype(object)\n",
    "\n",
    "\n",
    "#2.- first y last name tienen mayusculas al principio, los movería a mayusculas para evitar duplicados o si necesito citar informarción de alguno de ellos en especifico en un futuro.\n",
    "users[\"first_name\"]=users[\"first_name\"].str.lower()\n",
    "users[\"last_name\"]=users[\"last_name\"].str.lower()\n",
    "\n",
    "#3.- separa la ciudad de la abreviatura.\n",
    "users[[\"city\",\"city_code\"]]=users[\"city\"].str.split(\",\",expand=True)\n",
    "users[\"city_code\"]=users[\"city_code\"].str.strip()\n"
   ]
  },
  {
   "cell_type": "code",
   "execution_count": 10,
   "metadata": {},
   "outputs": [],
   "source": [
    "users=users.reindex(columns=[\"user_id\",\"first_name\",\"last_name\",\"age\",\"city\",\"city_code\",\"reg_date\",\"plan\",\"churn_date\"])\n",
    "users[\"city\"]=users[\"city\"].str.lower()\n",
    "users[\"city_code\"]=users[\"city_code\"].str.lower()\n",
    "\n",
    "\n",
    "#5.- reemplazar los valores nulos en churn_date por la palabra \"none\"(voy a esperarme a ver como se desenvuelve el pryecto para optar por cambiar estos valores nulos)\n",
    "#users[\"churn_date\"]=users[\"churn_date\"].fillna(\"none\",inplace=True)\n",
    "\n",
    "                                              \n",
    "#4.- cambiar reg_date y churn_date a datos tipo datatime\n",
    "users[\"reg_date\"]=pd.to_datetime(users[\"reg_date\"],format=\"%Y-%m-%d\")\n",
    "users[\"churn_date\"]=pd.to_datetime(users[\"churn_date\"],format=\"%Y-%m-%d\")\n"
   ]
  },
  {
   "cell_type": "code",
   "execution_count": 11,
   "metadata": {},
   "outputs": [
    {
     "name": "stdout",
     "output_type": "stream",
     "text": [
      "<class 'pandas.core.frame.DataFrame'>\n",
      "RangeIndex: 500 entries, 0 to 499\n",
      "Data columns (total 9 columns):\n",
      " #   Column      Non-Null Count  Dtype         \n",
      "---  ------      --------------  -----         \n",
      " 0   user_id     500 non-null    object        \n",
      " 1   first_name  500 non-null    object        \n",
      " 2   last_name   500 non-null    object        \n",
      " 3   age         500 non-null    int64         \n",
      " 4   city        500 non-null    object        \n",
      " 5   city_code   500 non-null    object        \n",
      " 6   reg_date    500 non-null    datetime64[ns]\n",
      " 7   plan        500 non-null    object        \n",
      " 8   churn_date  34 non-null     datetime64[ns]\n",
      "dtypes: datetime64[ns](2), int64(1), object(6)\n",
      "memory usage: 35.3+ KB\n",
      "None\n",
      "    user_id first_name last_name  age                              city  \\\n",
      "5      1005      livia   shields   31       dallas-fort worth-arlington   \n",
      "348    1348       carl  rutledge   60           detroit-warren-dearborn   \n",
      "150    1150     earlie     giles   46  houston-the woodlands-sugar land   \n",
      "421    1421       zane     hobbs   26             phoenix-mesa-chandler   \n",
      "222    1222       cleo  anderson   18    los angeles-long beach-anaheim   \n",
      "209    1209     garret      paul   63    los angeles-long beach-anaheim   \n",
      "488    1488    shirley     jones   29                       baton rouge   \n",
      "284    1284       yuri      odom   51                  dayton-kettering   \n",
      "81     1081     grayce     sears   44       dallas-fort worth-arlington   \n",
      "341    1341      kaila   andrews   28          chicago-naperville-elgin   \n",
      "\n",
      "        city_code   reg_date      plan churn_date  \n",
      "5          tx msa 2018-11-29      surf        NaT  \n",
      "348        mi msa 2018-10-05      surf        NaT  \n",
      "150        tx msa 2018-09-19  ultimate        NaT  \n",
      "421        az msa 2018-05-18      surf        NaT  \n",
      "222        ca msa 2018-06-27      surf        NaT  \n",
      "209        ca msa 2018-08-28      surf        NaT  \n",
      "488        la msa 2018-05-15      surf        NaT  \n",
      "284        oh msa 2018-09-07      surf        NaT  \n",
      "81         tx msa 2018-04-27      surf        NaT  \n",
      "341  il-in-wi msa 2018-06-17      surf        NaT  \n"
     ]
    }
   ],
   "source": [
    "print(users.info())\n",
    "print(users.sample(10))\n"
   ]
  },
  {
   "cell_type": "markdown",
   "metadata": {
    "id": "ycwuARJp0q07"
   },
   "source": [
    "### Enriquecer los datos"
   ]
  },
  {
   "cell_type": "markdown",
   "metadata": {
    "id": "96NIh4CJ0q08"
   },
   "source": [
    "[Agrega factores adicionales a los datos si crees que pudieran ser útiles.]"
   ]
  },
  {
   "cell_type": "code",
   "execution_count": 12,
   "metadata": {
    "id": "iq0AaBS90q08"
   },
   "outputs": [],
   "source": [
    "#No hasta el momento"
   ]
  },
  {
   "cell_type": "markdown",
   "metadata": {
    "id": "o7MeKCid0q08"
   },
   "source": [
    "## Llamadas"
   ]
  },
  {
   "cell_type": "code",
   "execution_count": 13,
   "metadata": {
    "id": "6dDlnoDm0q08"
   },
   "outputs": [
    {
     "name": "stdout",
     "output_type": "stream",
     "text": [
      "<class 'pandas.core.frame.DataFrame'>\n",
      "RangeIndex: 137735 entries, 0 to 137734\n",
      "Data columns (total 4 columns):\n",
      " #   Column     Non-Null Count   Dtype  \n",
      "---  ------     --------------   -----  \n",
      " 0   id         137735 non-null  object \n",
      " 1   user_id    137735 non-null  int64  \n",
      " 2   call_date  137735 non-null  object \n",
      " 3   duration   137735 non-null  float64\n",
      "dtypes: float64(1), int64(1), object(2)\n",
      "memory usage: 4.2+ MB\n",
      "None\n"
     ]
    }
   ],
   "source": [
    "# Imprime la información general/resumida sobre el DataFrame de las llamadas\n",
    "\n",
    "print(calls.info())\n"
   ]
  },
  {
   "cell_type": "code",
   "execution_count": 14,
   "metadata": {
    "id": "kuh1vlNB0q09"
   },
   "outputs": [
    {
     "name": "stdout",
     "output_type": "stream",
     "text": [
      "              id  user_id   call_date  duration\n",
      "97298   1347_124     1347  2018-10-14      3.06\n",
      "48964    1176_63     1176  2018-12-28      0.00\n",
      "10148    1046_14     1046  2018-08-24      0.00\n",
      "83145    1301_59     1301  2018-12-30      2.34\n",
      "102855   1365_51     1365  2018-11-06      3.36\n",
      "30327    1114_43     1114  2018-10-16      5.27\n",
      "47386   1171_417     1171  2018-07-28      0.32\n",
      "69337   1249_128     1249  2018-09-13     11.05\n",
      "98635   1353_342     1353  2018-12-03      0.00\n",
      "44047    1160_63     1160  2018-06-12      0.00\n",
      "82122    1296_10     1296  2018-12-13      9.06\n",
      "14199   1059_427     1059  2018-05-08     14.91\n",
      "88818   1324_878     1324  2018-05-14      0.00\n",
      "86185    1318_10     1318  2018-11-28     13.67\n",
      "7851     1037_29     1037  2018-12-24      7.31\n"
     ]
    }
   ],
   "source": [
    "# Imprime una muestra de datos para las llamadas\n",
    "\n",
    "print(calls.sample(15))"
   ]
  },
  {
   "cell_type": "markdown",
   "metadata": {
    "id": "DOAxYJSx0q09"
   },
   "source": [
    "[Describe lo que ves y observas en la información general y en la muestra de datos impresa para el precio de datos anterior. ¿Hay algún problema (tipos de datos no adecuados, datos ausentes, etc.) que pudieran necesitar investigación y cambios adicionales? ¿Cómo se puede arreglar?]\n",
    "\n",
    "1.- cambiar user_id a object\n",
    "\n",
    "2.- call_date a datetime\n",
    "\n",
    "3.-hacer una columna nueva con duration redondeada"
   ]
  },
  {
   "cell_type": "markdown",
   "metadata": {
    "id": "S7hzxmbX0q0-"
   },
   "source": [
    "### Corregir los datos"
   ]
  },
  {
   "cell_type": "markdown",
   "metadata": {
    "id": "YxWyAjD20q0-"
   },
   "source": [
    "[Corrige los problemas obvios con los datos basándote en las observaciones iniciales.]"
   ]
  },
  {
   "cell_type": "code",
   "execution_count": 15,
   "metadata": {
    "id": "S2r8xA4f0q0-"
   },
   "outputs": [
    {
     "name": "stdout",
     "output_type": "stream",
     "text": [
      "<class 'pandas.core.frame.DataFrame'>\n",
      "RangeIndex: 137735 entries, 0 to 137734\n",
      "Data columns (total 5 columns):\n",
      " #   Column            Non-Null Count   Dtype         \n",
      "---  ------            --------------   -----         \n",
      " 0   id                137735 non-null  object        \n",
      " 1   user_id           137735 non-null  object        \n",
      " 2   call_date         137735 non-null  datetime64[ns]\n",
      " 3   duration          137735 non-null  float64       \n",
      " 4   duration_rounded  137735 non-null  int64         \n",
      "dtypes: datetime64[ns](1), float64(1), int64(1), object(2)\n",
      "memory usage: 5.3+ MB\n",
      "None\n"
     ]
    }
   ],
   "source": [
    "\n",
    "#1.- cambiar user_id a object\n",
    "\n",
    "calls[\"user_id\"]=calls[\"user_id\"].astype(object)\n",
    "\n",
    "#2.- call_date a datetime\n",
    "calls[\"call_date\"]=pd.to_datetime(calls[\"call_date\"],format=\"%Y-%m-%d\")\n",
    "#3.-hacer una columna nueva con duration redondeada\n",
    "\n",
    "calls[\"duration_rounded\"]=np.ceil(calls[\"duration\"]).astype(int)\n",
    "print(calls.info())"
   ]
  },
  {
   "cell_type": "markdown",
   "metadata": {},
   "source": [
    "<div class=\"alert alert-block alert-success\">\n",
    "<b>Comentario del revisor</b> <a class=\"tocSkip\"></a>\n",
    "\n",
    "Muy buen trabajo en redondear la duración de las llamadas.\n",
    "    \n",
    "</div>"
   ]
  },
  {
   "cell_type": "code",
   "execution_count": 16,
   "metadata": {},
   "outputs": [
    {
     "name": "stdout",
     "output_type": "stream",
     "text": [
      "              id user_id  call_date  duration  duration_rounded\n",
      "127725    1457_5    1457 2018-12-28     11.50                12\n",
      "88384   1324_434    1324 2018-10-02      3.14                 4\n",
      "132727  1478_181    1478 2018-10-07      5.85                 6\n",
      "127159  1454_149    1454 2018-10-26      0.00                 0\n",
      "124128  1438_176    1438 2018-11-02     15.51                16\n",
      "100954   1361_56    1361 2018-11-17     10.25                11\n",
      "81643   1293_949    1293 2018-08-30      0.00                 0\n",
      "16244   1064_102    1064 2018-12-07      0.00                 0\n",
      "106624  1377_176    1377 2018-09-13      9.66                10\n",
      "31782   1120_128    1120 2018-06-13     14.55                15\n"
     ]
    }
   ],
   "source": [
    "print(calls.sample(10))"
   ]
  },
  {
   "cell_type": "markdown",
   "metadata": {
    "id": "KrMgTrlG0q0_"
   },
   "source": [
    "### Enriquecer los datos"
   ]
  },
  {
   "cell_type": "markdown",
   "metadata": {
    "id": "a9MbmEvE0q0_"
   },
   "source": [
    "[Agrega factores adicionales a los datos si crees que pudieran ser útiles.]"
   ]
  },
  {
   "cell_type": "code",
   "execution_count": 17,
   "metadata": {
    "id": "iZ1avpA_0q0_"
   },
   "outputs": [],
   "source": [
    "#añadi una columna con los minutos redondeados"
   ]
  },
  {
   "cell_type": "markdown",
   "metadata": {
    "id": "mOUZSi180q0_"
   },
   "source": [
    "## Mensajes"
   ]
  },
  {
   "cell_type": "code",
   "execution_count": 18,
   "metadata": {
    "id": "R-bYJpdV0q1A"
   },
   "outputs": [
    {
     "name": "stdout",
     "output_type": "stream",
     "text": [
      "<class 'pandas.core.frame.DataFrame'>\n",
      "RangeIndex: 76051 entries, 0 to 76050\n",
      "Data columns (total 3 columns):\n",
      " #   Column        Non-Null Count  Dtype \n",
      "---  ------        --------------  ----- \n",
      " 0   id            76051 non-null  object\n",
      " 1   user_id       76051 non-null  int64 \n",
      " 2   message_date  76051 non-null  object\n",
      "dtypes: int64(1), object(2)\n",
      "memory usage: 1.7+ MB\n",
      "None\n"
     ]
    }
   ],
   "source": [
    "# Imprime la información general/resumida sobre el DataFrame de los mensajes\n",
    "print(msn.info())\n"
   ]
  },
  {
   "cell_type": "code",
   "execution_count": 19,
   "metadata": {
    "id": "mCEl2iGE0q1A"
   },
   "outputs": [
    {
     "name": "stdout",
     "output_type": "stream",
     "text": [
      "             id  user_id message_date\n",
      "17001   1113_58     1113   2018-08-01\n",
      "30489   1193_12     1193   2018-09-13\n",
      "33914    1214_8     1214   2018-10-25\n",
      "25628  1154_211     1154   2018-10-11\n",
      "51308   1334_26     1334   2018-05-15\n",
      "45458   1309_12     1309   2018-12-16\n",
      "70405   1458_46     1458   2018-09-12\n",
      "21311  1132_600     1132   2018-11-24\n",
      "33078   1206_88     1206   2018-11-30\n",
      "60508  1381_621     1381   2018-11-15\n"
     ]
    }
   ],
   "source": [
    "# Imprime una muestra de datos para los mensajes\n",
    "\n",
    "print(msn.sample(10))"
   ]
  },
  {
   "cell_type": "markdown",
   "metadata": {
    "id": "04xDj7KH0q1A"
   },
   "source": [
    "[Describe lo que ves y observas en la información general y en la muestra de datos impresa para el precio de datos anterior. ¿Hay algún problema (tipos de datos no adecuados, datos ausentes, etc.) que pudieran necesitar investigación y cambios adicionales? ¿Cómo se puede arreglar?]\n",
    "\n",
    "1.- user_id cambiarlo a object\n",
    "\n",
    "2.- message_date cambiarlo a datetime\n"
   ]
  },
  {
   "cell_type": "markdown",
   "metadata": {
    "id": "Sprfak900q1B"
   },
   "source": [
    "### Corregir los datos"
   ]
  },
  {
   "cell_type": "markdown",
   "metadata": {
    "id": "eGw7d9j10q1B"
   },
   "source": [
    "[Corrige los problemas obvios con los datos basándote en las observaciones iniciales.]"
   ]
  },
  {
   "cell_type": "code",
   "execution_count": 20,
   "metadata": {
    "id": "vsllvkoa0q1B"
   },
   "outputs": [
    {
     "name": "stdout",
     "output_type": "stream",
     "text": [
      "<class 'pandas.core.frame.DataFrame'>\n",
      "RangeIndex: 76051 entries, 0 to 76050\n",
      "Data columns (total 3 columns):\n",
      " #   Column        Non-Null Count  Dtype         \n",
      "---  ------        --------------  -----         \n",
      " 0   id            76051 non-null  object        \n",
      " 1   user_id       76051 non-null  object        \n",
      " 2   message_date  76051 non-null  datetime64[ns]\n",
      "dtypes: datetime64[ns](1), object(2)\n",
      "memory usage: 1.7+ MB\n",
      "None\n",
      "             id user_id message_date\n",
      "28955   1176_96    1176   2018-11-08\n",
      "73990  1475_124    1475   2018-11-10\n",
      "14697   1100_19    1100   2018-10-16\n",
      "65263   1419_72    1419   2018-12-14\n",
      "22327  1133_367    1133   2018-11-20\n",
      "57374  1362_457    1362   2018-05-04\n",
      "18285   1120_32    1120   2018-06-28\n",
      "71539  1466_191    1466   2018-08-30\n",
      "35915  1236_196    1236   2018-05-24\n",
      "75997   1496_61    1496   2018-09-14\n"
     ]
    }
   ],
   "source": [
    "#1.- user_id cambiarlo a object\n",
    "\n",
    "\n",
    "msn[\"user_id\"]=msn[\"user_id\"].astype(object)\n",
    "\n",
    "#2.- message_date cambiarlo a datetime\n",
    "\n",
    "msn[\"message_date\"]=pd.to_datetime(msn[\"message_date\"],format=\"%Y-%m-%d\")\n",
    "print(msn.info())\n",
    "print(msn.sample(10))"
   ]
  },
  {
   "cell_type": "markdown",
   "metadata": {
    "id": "HvLid7iD0q1B"
   },
   "source": [
    "### Enriquecer los datos"
   ]
  },
  {
   "cell_type": "markdown",
   "metadata": {
    "id": "8nhPFKIe0q1C"
   },
   "source": [
    "[Agrega factores adicionales a los datos si crees que pudieran ser útiles.]"
   ]
  },
  {
   "cell_type": "code",
   "execution_count": 21,
   "metadata": {
    "id": "zYEXZac10q1C"
   },
   "outputs": [],
   "source": [
    "#por el momento no veo algo que necesite"
   ]
  },
  {
   "cell_type": "markdown",
   "metadata": {
    "id": "bStkaxn40q1C"
   },
   "source": [
    "## Internet"
   ]
  },
  {
   "cell_type": "code",
   "execution_count": 22,
   "metadata": {
    "id": "e-Uz5qyn0q1C"
   },
   "outputs": [
    {
     "name": "stdout",
     "output_type": "stream",
     "text": [
      "<class 'pandas.core.frame.DataFrame'>\n",
      "RangeIndex: 104825 entries, 0 to 104824\n",
      "Data columns (total 4 columns):\n",
      " #   Column        Non-Null Count   Dtype  \n",
      "---  ------        --------------   -----  \n",
      " 0   id            104825 non-null  object \n",
      " 1   user_id       104825 non-null  int64  \n",
      " 2   session_date  104825 non-null  object \n",
      " 3   mb_used       104825 non-null  float64\n",
      "dtypes: float64(1), int64(1), object(2)\n",
      "memory usage: 3.2+ MB\n",
      "None\n"
     ]
    }
   ],
   "source": [
    "# Imprime la información general/resumida sobre el DataFrame de internet\n",
    "\n",
    "print(internet.info())"
   ]
  },
  {
   "cell_type": "code",
   "execution_count": 23,
   "metadata": {
    "id": "9r3x_XLw0q1C"
   },
   "outputs": [
    {
     "name": "stdout",
     "output_type": "stream",
     "text": [
      "              id  user_id session_date  mb_used\n",
      "65667     1303_7     1303   2018-12-20   637.95\n",
      "91871   1425_286     1425   2018-10-08   549.07\n",
      "101732   1488_85     1488   2018-06-19   829.02\n",
      "38524   1172_179     1172   2018-10-05   831.94\n",
      "3589      1022_0     1022   2018-12-13     0.00\n",
      "78291    1365_57     1365   2018-11-10   335.82\n",
      "102894   1493_12     1493   2018-11-01     0.00\n",
      "19321    1087_43     1087   2018-11-20   924.07\n",
      "41025    1185_62     1185   2018-09-03   351.54\n",
      "43036   1191_215     1191   2018-09-28   512.17\n"
     ]
    }
   ],
   "source": [
    "# Imprime una muestra de datos para el tráfico de internet\n",
    "print(internet.sample(10))\n"
   ]
  },
  {
   "cell_type": "markdown",
   "metadata": {
    "id": "EzOG5ik30q1D"
   },
   "source": [
    "[Describe lo que ves y observas en la información general y en la muestra de datos impresa para el precio de datos anterior. ¿Hay algún problema (tipos de datos no adecuados, datos ausentes, etc.) que pudieran necesitar investigación y cambios adicionales? ¿Cómo se puede arreglar?]\n",
    "\n",
    "1.- user_id a object\n",
    "\n",
    "2.-session_date a datetime\n",
    "\n",
    "3.- mb_used a gb_used (crear nueva columna pero no estoy seguro aún. Veremos como se desarrolla el proyecto)"
   ]
  },
  {
   "cell_type": "markdown",
   "metadata": {
    "id": "yA0tkPFg0q1D"
   },
   "source": [
    "### Corregir los datos"
   ]
  },
  {
   "cell_type": "markdown",
   "metadata": {
    "id": "zlZMuIEK0q1D"
   },
   "source": [
    "[Corrige los problemas obvios con los datos basándote en las observaciones iniciales.]"
   ]
  },
  {
   "cell_type": "code",
   "execution_count": 24,
   "metadata": {
    "id": "zVeanzdd0q1E"
   },
   "outputs": [
    {
     "name": "stdout",
     "output_type": "stream",
     "text": [
      "<class 'pandas.core.frame.DataFrame'>\n",
      "RangeIndex: 104825 entries, 0 to 104824\n",
      "Data columns (total 5 columns):\n",
      " #   Column        Non-Null Count   Dtype         \n",
      "---  ------        --------------   -----         \n",
      " 0   id            104825 non-null  object        \n",
      " 1   user_id       104825 non-null  object        \n",
      " 2   session_date  104825 non-null  datetime64[ns]\n",
      " 3   mb_used       104825 non-null  float64       \n",
      " 4   gb_used       104825 non-null  float64       \n",
      "dtypes: datetime64[ns](1), float64(2), object(2)\n",
      "memory usage: 4.0+ MB\n",
      "None\n",
      "             id user_id session_date  mb_used   gb_used\n",
      "37459   1170_18    1170   2018-09-27   647.68  0.632500\n",
      "47099  1210_299    1210   2018-06-02   581.92  0.568281\n",
      "2088   1010_261    1010   2018-10-15   249.68  0.243828\n",
      "42681  1189_220    1189   2018-11-23   109.05  0.106494\n",
      "22809   1105_39    1105   2018-11-12   825.81  0.806455\n",
      "97362  1458_463    1458   2018-07-26   590.31  0.576475\n",
      "13681  1064_129    1064   2018-09-22   334.19  0.326357\n",
      "59582  1268_251    1268   2018-10-21   606.12  0.591914\n",
      "11991   1059_95    1059   2018-08-03   346.63  0.338506\n",
      "27839  1127_687    1127   2018-08-07   363.80  0.355273\n"
     ]
    }
   ],
   "source": [
    "#1.- user_id cambiarlo a object\n",
    "\n",
    "\n",
    "internet[\"user_id\"]=internet[\"user_id\"].astype(object)\n",
    "\n",
    "#2.- session_date cambiarlo a datetime\n",
    "\n",
    "internet[\"session_date\"]=pd.to_datetime(internet[\"session_date\"],format=\"%Y-%m-%d\")\n",
    "\n",
    "#3.- mb_used a gb_used (crear nueva columna pero no estoy seguro aún. Veremos como se desarrolla el proyecto)\n",
    "internet[\"gb_used\"]=internet[\"mb_used\"]/1024\n",
    "print(internet.info())\n",
    "print(internet.sample(10))"
   ]
  },
  {
   "cell_type": "markdown",
   "metadata": {
    "id": "e8_mLF4a0q1E"
   },
   "source": [
    "### Enriquecer los datos"
   ]
  },
  {
   "cell_type": "markdown",
   "metadata": {
    "id": "xhNdn2tE0q1E"
   },
   "source": [
    "[Agrega factores adicionales a los datos si crees que pudieran ser útiles.]"
   ]
  },
  {
   "cell_type": "code",
   "execution_count": 25,
   "metadata": {
    "id": "ESiYPIEK0q1E"
   },
   "outputs": [],
   "source": [
    "#añadí la columna de gb_used para el momento de sumar el consumo de internet por usuario"
   ]
  },
  {
   "cell_type": "markdown",
   "metadata": {
    "id": "3UA2cqIW0q1E"
   },
   "source": [
    "## Estudiar las condiciones de las tarifas"
   ]
  },
  {
   "cell_type": "markdown",
   "metadata": {
    "id": "T86Sqltq0q1F"
   },
   "source": [
    "[Es sumamente importante entender cómo funcionan las tarifas, cómo se les cobra a los usuarios en función de su plan de suscripción. Así que te sugerimos imprimir la información de la tarifa para ver una vez más sus condiciones.]"
   ]
  },
  {
   "cell_type": "code",
   "execution_count": 26,
   "metadata": {
    "id": "i409op8p0q1F"
   },
   "outputs": [
    {
     "name": "stdout",
     "output_type": "stream",
     "text": [
      "<class 'pandas.core.frame.DataFrame'>\n",
      "RangeIndex: 2 entries, 0 to 1\n",
      "Data columns (total 8 columns):\n",
      " #   Column                 Non-Null Count  Dtype  \n",
      "---  ------                 --------------  -----  \n",
      " 0   messages_included      2 non-null      int64  \n",
      " 1   gb_per_month_included  2 non-null      float64\n",
      " 2   minutes_included       2 non-null      int64  \n",
      " 3   usd_monthly_pay        2 non-null      int64  \n",
      " 4   usd_per_gb             2 non-null      int64  \n",
      " 5   usd_per_message        2 non-null      float64\n",
      " 6   usd_per_minute         2 non-null      float64\n",
      " 7   plan_name              2 non-null      object \n",
      "dtypes: float64(3), int64(4), object(1)\n",
      "memory usage: 256.0+ bytes\n",
      "None\n",
      "                          0         1\n",
      "messages_included        50      1000\n",
      "gb_per_month_included  15.0      30.0\n",
      "minutes_included        500      3000\n",
      "usd_monthly_pay          20        70\n",
      "usd_per_gb               10         7\n",
      "usd_per_message        0.03      0.01\n",
      "usd_per_minute         0.03      0.01\n",
      "plan_name              surf  ultimate\n"
     ]
    }
   ],
   "source": [
    "# Imprime las condiciones de la tarifa y asegúrate de que te quedan claras\n",
    "print(plans.info())\n",
    "print(plans.T)\n"
   ]
  },
  {
   "cell_type": "markdown",
   "metadata": {
    "id": "hMR1tP5d0q1F"
   },
   "source": [
    "## Agregar datos por usuario\n",
    "\n",
    "[Ahora que los datos están limpios, agrega los datos por usuario y por periodo para que solo haya un registro por usuario y por periodo. Esto facilitará mucho el análisis posterior.]"
   ]
  },
  {
   "cell_type": "code",
   "execution_count": 27,
   "metadata": {
    "id": "A332cedB0q1G"
   },
   "outputs": [
    {
     "name": "stdout",
     "output_type": "stream",
     "text": [
      "month    1   2   3   4   5   6   7   8   9  10  11   12  avg_monthly_calls\n",
      "user_id                                                                   \n",
      "1000     0   0   0   0   0   0   0   0   0   0   0   16           1.333333\n",
      "1001     0   0   0   0   0   0   0  27  49  65  64   56          21.750000\n",
      "1002     0   0   0   0   0   0   0   0   0  11  55   47           9.416667\n",
      "1003     0   0   0   0   0   0   0   0   0   0   0  149          12.416667\n",
      "1004     0   0   0   0  21  44  49  49  42  61  54   50          30.833333\n",
      "...     ..  ..  ..  ..  ..  ..  ..  ..  ..  ..  ..  ...                ...\n",
      "1495     0   0   0   0   0   0   0   0  52  75  61   65          21.083333\n",
      "1496     0   0   0   0   0   0   0  18  52  46  39   40          16.250000\n",
      "1497     0   0   0   0   0   0   0   0   0   0   0   54           4.500000\n",
      "1498     0  37  37  47  35  37  43  44  45  46  41   39          37.583333\n",
      "1499     0   0   0   0   0   0   0   0  41  53  45   65          17.000000\n",
      "\n",
      "[481 rows x 13 columns]\n"
     ]
    }
   ],
   "source": [
    "# Calcula el número de llamadas hechas por cada usuario al mes. Guarda el resultado.\n",
    "\n",
    "#paso 1.- creamos una columna que nos indique el mes que se realizo cada llamada\n",
    "calls[\"month\"]=calls[\"call_date\"].dt.month\n",
    "calls[\"year\"]=calls[\"call_date\"].dt.year\n",
    "\n",
    "#paso 2.- sacamos una tabla dinamica con el total de llamadas por usuario al mes donde tomamos como medida \"call_date\" y contamos lasa veces que aparece cada mes por usuario\n",
    "total_calls=calls.pivot_table(index=\"user_id\",\n",
    "                             columns=\"month\",\n",
    "                             values=\"call_date\",\n",
    "                             aggfunc=\"count\",\n",
    "                             fill_value=0)\n",
    "\n",
    "#paso 3.- añadimos la columna de avg_monthly_calls donde sacamos un promedio pero de columnas, no de filas.\n",
    "total_calls[\"avg_monthly_calls\"]=total_calls.mean(axis=1)\n",
    "print(total_calls)\n",
    "\n"
   ]
  },
  {
   "cell_type": "markdown",
   "metadata": {},
   "source": [
    "<div class=\"alert alert-block alert-success\">\n",
    "<b>Comentario del revisor</b> <a class=\"tocSkip\"></a>\n",
    "\n",
    "Muy buen trabajo!! la función de pivot_table() es muy recomendable para hacer los códigos más eficientes. Solamente te recomendaria que puedes agregar las siguientes varaibles a la función para que se vean más claros los resultados: \n",
    "    \n",
    "    pivot_calls = calls.pivot_table(index=['user_id', 'month'],\n",
    "                                values=['duration'],\n",
    "                                aggfunc=['sum','count']).reset_index()\n",
    "\n",
    "\n",
    "    \n",
    "</div>"
   ]
  },
  {
   "cell_type": "code",
   "execution_count": 28,
   "metadata": {
    "id": "aw2cmuql0q1G"
   },
   "outputs": [
    {
     "name": "stdout",
     "output_type": "stream",
     "text": [
      "month    1    2    3    4    5    6    7    8    9    10   11    12\n",
      "user_id                                                            \n",
      "1000      0    0    0    0    0    0    0    0    0    0    0   124\n",
      "1001      0    0    0    0    0    0    0  182  315  393  426   412\n",
      "1002      0    0    0    0    0    0    0    0    0   59  386   384\n",
      "1003      0    0    0    0    0    0    0    0    0    0    0  1104\n",
      "1004      0    0    0    0  193  275  381  354  301  365  476   427\n",
      "...      ..  ...  ...  ...  ...  ...  ...  ...  ...  ...  ...   ...\n",
      "1495      0    0    0    0    0    0    0    0  302  610  361   492\n",
      "1496      0    0    0    0    0    0    0  122  414  317  308   294\n",
      "1497      0    0    0    0    0    0    0    0    0    0    0   300\n",
      "1498      0  244  266  365  288  238  321  266  363  298  223   339\n",
      "1499      0    0    0    0    0    0    0    0  346  385  308   496\n",
      "\n",
      "[481 rows x 12 columns]\n"
     ]
    }
   ],
   "source": [
    "# Calcula la cantidad de minutos usados por cada usuario al mes. Guarda el resultado.\n",
    "\n",
    "#sacamos el total de minutos pero utilizamos la columna duration_rounded para efectos de ver cuantos minutos enteros usaron y asi estar en relacion a las politicas e cobro de la compañia\n",
    "\n",
    "total_mins=calls.pivot_table(index=\"user_id\",\n",
    "                             columns=\"month\",\n",
    "                             values=\"duration_rounded\",\n",
    "                             aggfunc=\"sum\",\n",
    "                             fill_value=0)\n",
    "\n",
    "print(total_mins)"
   ]
  },
  {
   "cell_type": "code",
   "execution_count": 29,
   "metadata": {
    "id": "CcQvNHn60q1G"
   },
   "outputs": [
    {
     "name": "stdout",
     "output_type": "stream",
     "text": [
      "<class 'pandas.core.frame.DataFrame'>\n",
      "RangeIndex: 76051 entries, 0 to 76050\n",
      "Data columns (total 3 columns):\n",
      " #   Column        Non-Null Count  Dtype         \n",
      "---  ------        --------------  -----         \n",
      " 0   id            76051 non-null  object        \n",
      " 1   user_id       76051 non-null  object        \n",
      " 2   message_date  76051 non-null  datetime64[ns]\n",
      "dtypes: datetime64[ns](1), object(2)\n",
      "memory usage: 1.7+ MB\n",
      "None\n",
      "              id user_id message_date\n",
      "62368   1392_143    1392   2018-12-20\n",
      "68154    1440_20    1440   2018-12-18\n",
      "36305   1241_109    1241   2018-11-24\n",
      "15895    1105_94    1105   2018-12-16\n",
      "15538   1101_595    1101   2018-05-28\n",
      "35450  1229_1506    1229   2018-12-30\n",
      "68686   1444_169    1444   2018-11-08\n",
      "22037  1132_1617    1132   2018-12-13\n",
      "18286    1120_33    1120   2018-12-08\n",
      "44041   1293_681    1293   2018-08-16\n"
     ]
    }
   ],
   "source": [
    "# Calcula el número de mensajes enviados por cada usuario al mes. Guarda el resultado.\n",
    "print(msn.info())\n",
    "print(msn.sample(10))\n"
   ]
  },
  {
   "cell_type": "code",
   "execution_count": 30,
   "metadata": {},
   "outputs": [
    {
     "name": "stdout",
     "output_type": "stream",
     "text": [
      "month    1   2   3   4   5   6   7   8   9   10  11  12\n",
      "user_id                                                \n",
      "1000      0   0   0   0   0   0   0   0   0   0   0  11\n",
      "1001      0   0   0   0   0   0   0  30  44  53  36  44\n",
      "1002      0   0   0   0   0   0   0   0   0  15  32  41\n",
      "1003      0   0   0   0   0   0   0   0   0   0   0  50\n",
      "1004      0   0   0   0   7  18  26  25  21  24  25  31\n",
      "...      ..  ..  ..  ..  ..  ..  ..  ..  ..  ..  ..  ..\n",
      "1491      0   0   0   6  45  54  64  50  50  51  46  43\n",
      "1492      0   0   0   0   0   0   0   0  11  29  31  37\n",
      "1494      0   0   0   0   0   0  20  27  21  38  35  33\n",
      "1496      0   0   0   0   0   0   0   2  21  18  13  11\n",
      "1497      0   0   0   0   0   0   0   0   0   0   0  50\n",
      "\n",
      "[402 rows x 12 columns]\n"
     ]
    }
   ],
   "source": [
    "#paso 1.- creamos una columna que nos indique el mes que se realizo cada mensaje\n",
    "msn[\"month\"]=msn[\"message_date\"].dt.month\n",
    "msn[\"year\"]=msn[\"message_date\"].dt.year\n",
    "\n",
    "#paso 2.- sacamos una tabla dinamica con el total de mensajes por usuario\n",
    "total_msn=msn.pivot_table(index=\"user_id\",\n",
    "                             columns=\"month\",\n",
    "                             values=\"message_date\",\n",
    "                             aggfunc=\"count\",\n",
    "                             fill_value=0)\n",
    "\n",
    "\n",
    "print(total_msn)\n",
    "\n"
   ]
  },
  {
   "cell_type": "code",
   "execution_count": 31,
   "metadata": {},
   "outputs": [
    {
     "name": "stdout",
     "output_type": "stream",
     "text": [
      "<class 'pandas.core.frame.DataFrame'>\n",
      "RangeIndex: 104825 entries, 0 to 104824\n",
      "Data columns (total 5 columns):\n",
      " #   Column        Non-Null Count   Dtype         \n",
      "---  ------        --------------   -----         \n",
      " 0   id            104825 non-null  object        \n",
      " 1   user_id       104825 non-null  object        \n",
      " 2   session_date  104825 non-null  datetime64[ns]\n",
      " 3   mb_used       104825 non-null  float64       \n",
      " 4   gb_used       104825 non-null  float64       \n",
      "dtypes: datetime64[ns](1), float64(2), object(2)\n",
      "memory usage: 4.0+ MB\n",
      "None\n",
      "             id user_id session_date  mb_used   gb_used\n",
      "47820  1214_194    1214   2018-07-02     0.00  0.000000\n",
      "20996   1098_13    1098   2018-10-10   247.30  0.241504\n",
      "18615  1082_368    1082   2018-11-24   563.59  0.550381\n",
      "18908  1084_170    1084   2018-11-17   299.71  0.292686\n",
      "48361   1215_83    1215   2018-10-04   430.43  0.420342\n",
      "82624  1385_375    1385   2018-05-24   664.66  0.649082\n",
      "69076  1321_671    1321   2018-06-02   141.06  0.137754\n",
      "55886  1252_419    1252   2018-11-01   179.00  0.174805\n",
      "53716   1243_18    1243   2018-10-23   222.74  0.217520\n",
      "74970  1353_133    1353   2018-07-12   674.26  0.658457\n"
     ]
    }
   ],
   "source": [
    "# Calcula el volumen del tráfico de Internet usado por cada usuario al mes. Guarda el resultado.\n",
    "\n",
    "print(internet.info())\n",
    "print(internet.sample(10))"
   ]
  },
  {
   "cell_type": "code",
   "execution_count": 32,
   "metadata": {
    "id": "H1AqN2eG0q1H"
   },
   "outputs": [
    {
     "name": "stdout",
     "output_type": "stream",
     "text": [
      "month     1     2     3     4     5     6     7     8     9     10    11    12\n",
      "user_id                                                                       \n",
      "1000     0.0   0.0   0.0   0.0   0.0   0.0   0.0   0.0   0.0   0.0   0.0   2.0\n",
      "1001     0.0   0.0   0.0   0.0   0.0   0.0   0.0   7.0  14.0  22.0  19.0  19.0\n",
      "1002     0.0   0.0   0.0   0.0   0.0   0.0   0.0   0.0   0.0   7.0  19.0  15.0\n",
      "1003     0.0   0.0   0.0   0.0   0.0   0.0   0.0   0.0   0.0   0.0   0.0  27.0\n",
      "1004     0.0   0.0   0.0   0.0   7.0  21.0  24.0  28.0  19.0  15.0  22.0  21.0\n",
      "...      ...   ...   ...   ...   ...   ...   ...   ...   ...   ...   ...   ...\n",
      "1495     0.0   0.0   0.0   0.0   0.0   0.0   0.0   0.0  23.0  27.0  25.0  24.0\n",
      "1496     0.0   0.0   0.0   0.0   0.0   0.0   0.0   9.0  17.0  14.0   9.0  17.0\n",
      "1497     0.0   0.0   0.0   0.0   0.0   0.0   0.0   0.0   0.0   0.0   0.0  11.0\n",
      "1498     0.0  20.0  20.0  20.0  22.0  15.0  25.0  20.0  23.0  21.0  19.0  23.0\n",
      "1499     0.0   0.0   0.0   0.0   0.0   0.0   0.0   0.0  13.0  20.0  17.0  22.0\n",
      "\n",
      "[489 rows x 12 columns]\n"
     ]
    }
   ],
   "source": [
    "#paso 1.- creamos dos columnas, una por año y otra por mes\n",
    "internet[\"month\"]=internet[\"session_date\"].dt.month\n",
    "internet[\"year\"]=internet[\"session_date\"].dt.year\n",
    "\n",
    "#paso 2.- sacamos una tabla dinamica con el total de gb utilizados\n",
    "total_usage=internet.pivot_table(index=\"user_id\",\n",
    "                             columns=\"month\",\n",
    "                             values=\"gb_used\",\n",
    "                             aggfunc=\"sum\",\n",
    "                             fill_value=0)\n",
    "\n",
    "#paso 3.- redondeamos el consumo mensual de datos para seguir con las politicas de cobro de la compañia\n",
    "total_usage=np.ceil(total_usage)\n",
    "\n",
    "print(total_usage)\n"
   ]
  },
  {
   "cell_type": "markdown",
   "metadata": {
    "id": "VDfYXnj80q1H"
   },
   "source": [
    "[Junta los datos agregados en un DataFrame para que haya un registro que represente lo que consumió un usuario único en un mes determinado.]"
   ]
  },
  {
   "cell_type": "code",
   "execution_count": 33,
   "metadata": {
    "id": "FW99ykyf0q1H"
   },
   "outputs": [
    {
     "name": "stdout",
     "output_type": "stream",
     "text": [
      "<class 'pandas.core.frame.DataFrame'>\n",
      "Int64Index: 5880 entries, 0 to 5879\n",
      "Data columns (total 5 columns):\n",
      " #   Column     Non-Null Count  Dtype  \n",
      "---  ------     --------------  -----  \n",
      " 0   user_id    5880 non-null   int64  \n",
      " 1   month      5880 non-null   float64\n",
      " 2   mins_used  5880 non-null   float64\n",
      " 3   msn_used   5880 non-null   float64\n",
      " 4   gb_used    5880 non-null   float64\n",
      "dtypes: float64(4), int64(1)\n",
      "memory usage: 275.6 KB\n",
      "None\n"
     ]
    }
   ],
   "source": [
    "# Fusiona los datos de llamadas, minutos, mensajes e Internet con base en user_id y month\n",
    "\n",
    "#paso 1.- tenemos que manejar la información que obtuvimos en por medio de pivot_table y transformarlas a filas con solo una columns\n",
    "    #calls\n",
    "total_mins_reset = total_mins.reset_index()\n",
    "mins_long = total_mins_reset.melt(\n",
    "    id_vars=\"user_id\",     \n",
    "    var_name=\"month\",      \n",
    "    value_name=\"mins_used\"\n",
    "    \n",
    ")\n",
    "    #msn\n",
    "total_msn_reset = total_msn.reset_index()\n",
    "msn_long = total_msn_reset.melt(\n",
    "    id_vars=\"user_id\",     \n",
    "    var_name=\"month\",      \n",
    "    value_name=\"msn_used\"\n",
    ")\n",
    "\n",
    "    #internet\n",
    "total_usage_reset = total_usage.reset_index()\n",
    "usage_long = total_usage_reset.melt(\n",
    "    id_vars=\"user_id\",     \n",
    "    var_name=\"month\",      \n",
    "    value_name=\"gb_used\"\n",
    ")\n",
    "\n",
    "\n",
    "\n",
    "#paso 2.- unimos los 3 df \n",
    "temp_1=mins_long.merge(msn_long,on=[\"user_id\",\"month\"],how=\"outer\")\n",
    "final_usage=temp_1.merge(usage_long,on=[\"user_id\",\"month\"],how=\"outer\")\n",
    "\n",
    "#paso 3.- como utilizamos merge() con outer vamos a sustituir los valores nulos con 0\n",
    "final_usage[\"mins_used\"]=final_usage[\"mins_used\"].fillna(0)\n",
    "final_usage[\"msn_used\"]=final_usage[\"msn_used\"].fillna(0)\n",
    "final_usage[\"gb_used\"]=final_usage[\"gb_used\"].fillna(0)\n",
    "\n",
    "print(final_usage.info())\n"
   ]
  },
  {
   "cell_type": "code",
   "execution_count": 34,
   "metadata": {
    "id": "0dNOXHag0q1H"
   },
   "outputs": [
    {
     "name": "stdout",
     "output_type": "stream",
     "text": [
      "<class 'pandas.core.frame.DataFrame'>\n",
      "Int64Index: 5880 entries, 0 to 5879\n",
      "Data columns (total 13 columns):\n",
      " #   Column      Non-Null Count  Dtype         \n",
      "---  ------      --------------  -----         \n",
      " 0   user_id     5880 non-null   object        \n",
      " 1   month       5880 non-null   float64       \n",
      " 2   mins_used   5880 non-null   float64       \n",
      " 3   msn_used    5880 non-null   float64       \n",
      " 4   gb_used     5880 non-null   float64       \n",
      " 5   first_name  5880 non-null   object        \n",
      " 6   last_name   5880 non-null   object        \n",
      " 7   age         5880 non-null   int64         \n",
      " 8   city        5880 non-null   object        \n",
      " 9   city_code   5880 non-null   object        \n",
      " 10  reg_date    5880 non-null   datetime64[ns]\n",
      " 11  plan        5880 non-null   object        \n",
      " 12  churn_date  384 non-null    datetime64[ns]\n",
      "dtypes: datetime64[ns](2), float64(4), int64(1), object(6)\n",
      "memory usage: 643.1+ KB\n",
      "None\n",
      "\n",
      "\n",
      "     user_id  month  mins_used  msn_used  gb_used first_name  last_name  age  \\\n",
      "1330    1385    3.0       75.0       4.0      2.0     nohemi   erickson   52   \n",
      "1791    1364    4.0        0.0       0.0      0.0    clarine     bonner   75   \n",
      "5311    1020   12.0      500.0       3.0     20.0      rutha       bell   56   \n",
      "1374    1429    3.0        0.0       0.0      0.0    arianna       rowe   36   \n",
      "4569    1251   10.0      652.0      33.0     29.0     tifany      mcgee   45   \n",
      "4207    1375    9.0        0.0       0.0      0.0       andy     holden   69   \n",
      "4756    1444   10.0      228.0      54.0     25.0     glinda  dickerson   70   \n",
      "1434    1491    3.0        0.0       0.0      0.0     terina     jensen   22   \n",
      "1136    1183    3.0        0.0       0.0      0.0   jermaine   gallegos   71   \n",
      "2191    1280    5.0        0.0       0.0      0.0     jasper      berry   29   \n",
      "\n",
      "                                city        city_code   reg_date  plan  \\\n",
      "1330     new york-newark-jersey city     ny-nj-pa msa 2018-01-19  surf   \n",
      "1791  san diego-chula vista-carlsbad           ca msa 2018-08-09  surf   \n",
      "5311     dallas-fort worth-arlington           tx msa 2018-11-08  surf   \n",
      "1374     new york-newark-jersey city     ny-nj-pa msa 2018-12-22  surf   \n",
      "4569     new york-newark-jersey city     ny-nj-pa msa 2018-01-01  surf   \n",
      "4207  philadelphia-camden-wilmington  pa-nj-de-md msa 2018-12-01  surf   \n",
      "4756               new haven-milford           ct msa 2018-06-20  surf   \n",
      "1434           grand rapids-kentwood           mi msa 2018-04-27  surf   \n",
      "1136        chicago-naperville-elgin     il-in-wi msa 2018-07-20  surf   \n",
      "2191     new york-newark-jersey city     ny-nj-pa msa 2018-06-23  surf   \n",
      "\n",
      "     churn_date  \n",
      "1330        NaT  \n",
      "1791        NaT  \n",
      "5311        NaT  \n",
      "1374        NaT  \n",
      "4569        NaT  \n",
      "4207        NaT  \n",
      "4756        NaT  \n",
      "1434 2018-09-18  \n",
      "1136        NaT  \n",
      "2191        NaT  \n"
     ]
    }
   ],
   "source": [
    "# Añade la información de la tarifa\n",
    "user_usage=final_usage.merge(users,on=\"user_id\",how=\"left\")\n",
    "print(user_usage.info())\n",
    "print(\"\\n\")\n",
    "print(user_usage.sample(10))\n",
    "\n"
   ]
  },
  {
   "cell_type": "markdown",
   "metadata": {
    "id": "1IwGo4wg0q1I"
   },
   "source": [
    "[Calcula los ingresos mensuales por usuario (resta el límite del paquete gratuito del número total de llamadas, mensajes de texto y datos; multiplica el resultado por el valor del plan de llamadas; añade la tarifa mensual en función del plan de llamadas). Nota: Dadas las condiciones del plan, ¡esto podría no ser tan trivial como un par de líneas! Así que no pasa nada si dedicas algo de tiempo a ello.]"
   ]
  },
  {
   "cell_type": "code",
   "execution_count": 35,
   "metadata": {
    "id": "5FGCf_c60q1I"
   },
   "outputs": [
    {
     "name": "stdout",
     "output_type": "stream",
     "text": [
      "<class 'pandas.core.frame.DataFrame'>\n",
      "Int64Index: 5880 entries, 0 to 5879\n",
      "Data columns (total 21 columns):\n",
      " #   Column                 Non-Null Count  Dtype         \n",
      "---  ------                 --------------  -----         \n",
      " 0   user_id                5880 non-null   object        \n",
      " 1   month                  5880 non-null   float64       \n",
      " 2   mins_used              5880 non-null   float64       \n",
      " 3   msn_used               5880 non-null   float64       \n",
      " 4   gb_used                5880 non-null   float64       \n",
      " 5   first_name             5880 non-null   object        \n",
      " 6   last_name              5880 non-null   object        \n",
      " 7   age                    5880 non-null   int64         \n",
      " 8   city                   5880 non-null   object        \n",
      " 9   city_code              5880 non-null   object        \n",
      " 10  reg_date               5880 non-null   datetime64[ns]\n",
      " 11  plan                   5880 non-null   object        \n",
      " 12  churn_date             384 non-null    datetime64[ns]\n",
      " 13  messages_included      5880 non-null   int64         \n",
      " 14  gb_per_month_included  5880 non-null   float64       \n",
      " 15  minutes_included       5880 non-null   int64         \n",
      " 16  usd_monthly_pay        5880 non-null   int64         \n",
      " 17  usd_per_gb             5880 non-null   int64         \n",
      " 18  usd_per_message        5880 non-null   float64       \n",
      " 19  usd_per_minute         5880 non-null   float64       \n",
      " 20  plan_name              5880 non-null   object        \n",
      "dtypes: datetime64[ns](2), float64(7), int64(5), object(7)\n",
      "memory usage: 1010.6+ KB\n",
      "None\n"
     ]
    }
   ],
   "source": [
    "# Calcula el ingreso mensual para cada usuario\n",
    "#paso 1 obtenemos los limites de uso del df \"plans\"\n",
    "\n",
    "user_usage_2=user_usage.merge(plans,left_on=\"plan\",right_on=\"plan_name\",how=\"left\")\n",
    "print(user_usage_2.info())\n",
    "\n",
    "#print(plans.info())"
   ]
  },
  {
   "cell_type": "code",
   "execution_count": 36,
   "metadata": {
    "id": "5FGCf_c60q1I"
   },
   "outputs": [
    {
     "name": "stdout",
     "output_type": "stream",
     "text": [
      "     user_id  month  mins_used  msn_used  gb_used first_name last_name  age  \\\n",
      "4959    1158   11.0        0.0       0.0      0.0      robin  thornton   20   \n",
      "300     1314    1.0        0.0       0.0      0.0      brice    morgan   35   \n",
      "684     1214    2.0      428.0      15.0     22.0       emil    robles   34   \n",
      "1956    1033    5.0        0.0       0.0      0.0    latoyia     moran   28   \n",
      "5311    1020   12.0      500.0       3.0     20.0      rutha      bell   56   \n",
      "\n",
      "                                     city  city_code   reg_date      plan  \\\n",
      "4959  virginia beach-norfolk-newport news  va-nc msa 2018-11-30  ultimate   \n",
      "300        los angeles-long beach-anaheim     ca msa 2018-03-06  ultimate   \n",
      "684        san francisco-oakland-berkeley     ca msa 2018-01-01  ultimate   \n",
      "1956                        oklahoma city     ok msa 2018-05-30  ultimate   \n",
      "5311          dallas-fort worth-arlington     tx msa 2018-11-08      surf   \n",
      "\n",
      "     churn_date  messages_included  gb_per_month_included  minutes_included  \\\n",
      "4959        NaT               1000                   30.0              3000   \n",
      "300         NaT               1000                   30.0              3000   \n",
      "684         NaT               1000                   30.0              3000   \n",
      "1956        NaT               1000                   30.0              3000   \n",
      "5311        NaT                 50                   15.0               500   \n",
      "\n",
      "      usd_monthly_pay  usd_per_gb  usd_per_message  usd_per_minute plan_name  \n",
      "4959               70           7             0.01            0.01  ultimate  \n",
      "300                70           7             0.01            0.01  ultimate  \n",
      "684                70           7             0.01            0.01  ultimate  \n",
      "1956               70           7             0.01            0.01  ultimate  \n",
      "5311               20          10             0.03            0.03      surf  \n"
     ]
    }
   ],
   "source": [
    "pd.set_option('display.max_columns', None)\n",
    "print(user_usage_2.sample(5))\n",
    "\n"
   ]
  },
  {
   "cell_type": "code",
   "execution_count": 37,
   "metadata": {},
   "outputs": [
    {
     "name": "stdout",
     "output_type": "stream",
     "text": [
      "          total_payment                        \n",
      "                    sum       mean     max  min\n",
      "plan_name                                      \n",
      "surf          108332.11  27.110138  588.09  0.0\n",
      "ultimate       75866.00  40.268577  182.00  0.0\n"
     ]
    }
   ],
   "source": [
    "#primero reviso si tienen el servicio activo durante el mes de uso ya que me di cuenta que cuando use pivot_table me puso 0 en meses donde no se habia usado el servicio pero no indicaba si estaba ya contratado o no.\n",
    "\n",
    "def active_plan(row):\n",
    "    \n",
    "    if row[\"month\"]>=row[\"reg_date\"].month:\n",
    "        if pd.isna(row[\"churn_date\"])==True or row[\"month\"]<=row[\"churn_date\"].month:\n",
    "            return \"active\"\n",
    "    return \"inactive\"\n",
    "user_usage_2[\"status\"]=user_usage_2.apply(active_plan,axis=1)\n",
    "\n",
    "#paso 2.- calculo el costo de suscripción mensual por el plan que tienen contratado y el status\n",
    "def payment(row):\n",
    "    ultimate=70\n",
    "    surf=20\n",
    "    \n",
    "    if row[\"status\"]==\"active\" and row[\"plan_name\"]==\"ultimate\":\n",
    "        return ultimate\n",
    "    elif row[\"status\"]==\"active\" and row[\"plan_name\"]==\"surf\":\n",
    "        return surf\n",
    "    else:\n",
    "        return 0\n",
    "        \n",
    "#paso 3.- calculo los cargos extras por exceder el limite de uso mensual        \n",
    "def extra(row):\n",
    "    extra_min = 0\n",
    "    extra_msg = 0\n",
    "    extra_usage=0\n",
    "\n",
    "    if row[\"mins_used\"] > row[\"minutes_included\"]:\n",
    "        extra_min = (row[\"mins_used\"] - row[\"minutes_included\"]) * row[\"usd_per_minute\"]\n",
    "\n",
    "    if row[\"msn_used\"] > row[\"messages_included\"]:\n",
    "        extra_msg = (row[\"msn_used\"] - row[\"messages_included\"]) * row[\"usd_per_message\"]\n",
    "\n",
    "    if row[\"gb_used\"] > row[\"gb_per_month_included\"]:\n",
    "        extra_msg = (row[\"gb_used\"] - row[\"gb_per_month_included\"]) * row[\"usd_per_gb\"]\n",
    "    return extra_min + extra_msg + extra_usage\n",
    "\n",
    "    \n",
    "user_usage_2[\"subscription\"]=user_usage_2.apply(payment,axis=1)\n",
    "user_usage_2[\"extra\"]=user_usage_2.apply(extra,axis=1)\n",
    "\n",
    "#paso 4.- sumo el costo de suscripción y extras en una columna\n",
    "user_usage_2[\"total_payment\"]=user_usage_2[\"subscription\"]+user_usage_2[\"extra\"]\n",
    "\n",
    "#paso 5.- muestro información\n",
    "user_usage_2_resumen=user_usage_2.groupby(\"plan_name\").agg({\"total_payment\":[\"sum\",\"mean\",\"max\",\"min\"]})\n",
    "print(user_usage_2_resumen)"
   ]
  },
  {
   "cell_type": "markdown",
   "metadata": {},
   "source": [
    "<div class=\"alert alert-block alert-danger\">\n",
    "<b>Comentario revisor</b> <a class=\"tocSkip\"></a>\n",
    "\n",
    "\n",
    "Recuerda que para este punto, es necesario que ya tengamos los valores redondeados de la duración de las llamadas y redondear la transformación de megabytes a gigabytes. Esto cobra importancia dado que estamos calculando por cuanto se paso cada usuario, entonces el no redondear puede alterar este valor.\n",
    "</div>"
   ]
  },
  {
   "cell_type": "markdown",
   "metadata": {},
   "source": [
    "<div class=\"alert alert-block alert-success\">\n",
    "<b>Comentario del revisor</b> <a class=\"tocSkip\"></a>\n",
    "\n",
    "Gran trabajo con el ajuste!"
   ]
  },
  {
   "cell_type": "code",
   "execution_count": 3,
   "metadata": {},
   "outputs": [
    {
     "data": {
      "text/plain": [
       "'\"creo que si redondee los minutos y los gb desde que cree los pivot_table si reiniciamos el kernel el codigo para cuando redondeo minutos esto es el 28 ya que tome como base \"duration_rounded\" que fue una columna que añadi al principio. en el numero 32 se redondea la columna gb_used utilizando np.ceil() despues de haber creado el pivot_table de total usage. el df \"user_usage_2\" surge de utilizar merge() para los 3 pivot_table (msn,mins e internet) despues haber utilizado melt() para poder volver filas sus columnas por mes. lo que creo que pasa es que total_payment toma en cuenta el total de minutos,msn y gb extras por su tarifa individual y lo suma a subscription donde solo se pone 70 o 20 dependiendo del plan y si estuvo activo. espero haber entendido, de caso contrario me podrías explicar? por fa jeje'"
      ]
     },
     "execution_count": 3,
     "metadata": {},
     "output_type": "execute_result"
    }
   ],
   "source": [
    "\"\"\"\"creo que si redondee los minutos y los gb desde que cree los pivot_table si reiniciamos el kernel el codigo para cuando redondeo minutos esto es el 28 ya que tome como base \"duration_rounded\" que fue una columna que añadi al principio. en el numero 32 se redondea la columna gb_used utilizando np.ceil() despues de haber creado el pivot_table de total usage. el df \"user_usage_2\" surge de utilizar merge() para los 3 pivot_table (msn,mins e internet) despues haber utilizado melt() para poder volver filas sus columnas por mes. lo que creo que pasa es que total_payment toma en cuenta el total de minutos,msn y gb extras por su tarifa individual y lo suma a subscription donde solo se pone 70 o 20 dependiendo del plan y si estuvo activo. espero haber entendido, de caso contrario me podrías explicar? por fa jeje\"\"\""
   ]
  },
  {
   "cell_type": "markdown",
   "metadata": {
    "id": "-jtyHzJb0q1I"
   },
   "source": [
    "## Estudia el comportamiento de usuario"
   ]
  },
  {
   "cell_type": "markdown",
   "metadata": {
    "id": "AxU3Y0N70q1J"
   },
   "source": [
    "[Calcula algunas estadísticas descriptivas para los datos agregados y fusionados que nos sean útiles y que muestren un panorama general captado por los datos. Dibuja gráficos útiles para facilitar la comprensión. Dado que la tarea principal es comparar las tarifas y decidir cuál es más rentable, las estadísticas y gráficas deben calcularse por tarifa.]\n",
    "\n",
    "[En los comentarios hallarás pistas relevantes para las llamadas, pero no las hay para los mensajes e Internet. Sin embargo, el principio del estudio estadístico que se aplica para ellos es el mismo que para las llamadas.]"
   ]
  },
  {
   "cell_type": "markdown",
   "metadata": {
    "id": "vtW4CJEe0q1J"
   },
   "source": [
    "### Llamadas"
   ]
  },
  {
   "cell_type": "code",
   "execution_count": null,
   "metadata": {},
   "outputs": [],
   "source": []
  },
  {
   "cell_type": "code",
   "execution_count": 38,
   "metadata": {
    "id": "Jf5v5--k0q1J"
   },
   "outputs": [
    {
     "name": "stdout",
     "output_type": "stream",
     "text": [
      "el promedio de minutos por llamada para el plan surf es de:  6.8 y para el plan ultimate es de:  6.7  minutos.\n"
     ]
    }
   ],
   "source": [
    "# Compara la duración promedio de llamadas por cada plan y por cada mes. Traza un gráfico de barras para visualizarla.\n",
    "#paso 1.- extraigo la informaicion del plan del df users\n",
    "calls_2=calls.merge(users,on=\"user_id\",how=\"left\")\n",
    "\n",
    "#paso 2.- creo dos df distintos por el plan\n",
    "calls_surf=calls_2.query(\"plan=='surf'\")\n",
    "calls_ultimate=calls_2.query(\"plan=='ultimate'\")\n",
    "\n",
    "#paso 3.- obtengo el promedio por plan\n",
    "duration_calls_surf=calls_surf[\"duration\"].mean().round(1)\n",
    "duration_calls_ultimate=calls_ultimate[\"duration\"].mean().round(1)\n",
    "\n",
    "print(\"el promedio de minutos por llamada para el plan surf es de: \",duration_calls_surf,\"y para el plan ultimate es de: \",duration_calls_ultimate, \" minutos.\")\n",
    "\n"
   ]
  },
  {
   "cell_type": "code",
   "execution_count": 39,
   "metadata": {},
   "outputs": [
    {
     "name": "stdout",
     "output_type": "stream",
     "text": [
      "    month  surf  ultimate\n",
      "0       1   6.8       6.9\n",
      "1       2   7.3       6.9\n",
      "2       3   7.1       6.6\n",
      "3       4   7.2       7.1\n",
      "4       5   7.2       7.1\n",
      "5       6   7.3       7.1\n",
      "6       7   7.1       7.3\n",
      "7       8   7.1       7.0\n",
      "8       9   7.1       7.2\n",
      "9      10   7.1       7.1\n",
      "10     11   7.2       7.1\n",
      "11     12   7.2       7.1\n"
     ]
    }
   ],
   "source": [
    "#paso 4.- creo el df donde le índice es el mes y tengo el promedio de duracion de llamadas para cada plan\n",
    "calls_user=calls.merge(users,on=\"user_id\",how=\"left\")\n",
    "calls_user_surf=calls_user.query(\"plan=='surf'\")\n",
    "calls_user_ultimate=calls_user.query(\"plan=='ultimate'\")\n",
    "\n",
    "calls_user_surf_avg=calls_user_surf.groupby(\"month\")[\"duration_rounded\"].mean().round(1).reset_index(name=\"surf\")\n",
    "calls_user_ultimate_avg=calls_user_ultimate.groupby(\"month\")[\"duration_rounded\"].mean().round(1).reset_index(name=\"ultimate\")\n",
    "\n",
    "calls_user_avg=calls_user_surf_avg.merge(calls_user_ultimate_avg,on=\"month\",how=\"left\")\n",
    "print(calls_user_avg)"
   ]
  },
  {
   "cell_type": "code",
   "execution_count": 40,
   "metadata": {},
   "outputs": [
    {
     "data": {
      "text/plain": [
       "<AxesSubplot:title={'center':'Average lenght per call'}, xlabel='Calls per plan', ylabel='Month (represented in numbers)'>"
      ]
     },
     "execution_count": 40,
     "metadata": {},
     "output_type": "execute_result"
    },
    {
     "data": {
      "image/png": "[encoded data removed]",
      "text/plain": [
       "<Figure size 640x480 with 1 Axes>"
      ]
     },
     "metadata": {},
     "output_type": "display_data"
    }
   ],
   "source": [
    "#paso 5.- grafico\n",
    "calls_user_avg.plot(title=\"Average lenght per call\",\n",
    "                    x=\"month\",\n",
    "                   y=[\"surf\",\"ultimate\"],\n",
    "                   xlabel=\"Calls per plan\",\n",
    "                    ylabel=\"Month (represented in numbers)\",\n",
    "                    kind=\"bar\",\n",
    "                   ylim=[0,9],\n",
    "                   rot=60)"
   ]
  },
  {
   "cell_type": "code",
   "execution_count": 41,
   "metadata": {
    "id": "QoLqW1S_0q1J"
   },
   "outputs": [],
   "source": [
    "# Compara el número de minutos mensuales que necesitan los usuarios de cada plan. Traza un histograma.\n",
    "\n",
    "#paso 1.- obtengo los df con las columnas que necesito y resumido por consumo total por usuario por mes\n",
    "calls_user_surf_usage=calls_user_surf.groupby([\"month\",\"user_id\"])[\"duration_rounded\"].sum().reset_index(name=\"total_mins_used\")\n",
    "calls_user_surf_usage[\"plan\"]=\"surf\"\n",
    "\n",
    "calls_user_ultimate_usage=calls_user_ultimate.groupby([\"month\",\"user_id\"])[\"duration_rounded\"].sum().reset_index(name=\"total_mins_used\")\n",
    "calls_user_ultimate_usage[\"plan\"]=\"ultimate\"\n",
    "\n",
    "#paso 2.- concaten los dos df \n",
    "calls_user_general=pd.concat([calls_user_surf_usage,calls_user_ultimate_usage],ignore_index=True)\n",
    "\n",
    "#paso 3.- filtro los datos por plan para graficar\n",
    "surf_minutes =calls_user_general[calls_user_general[\"plan\"] == \"surf\"][\"total_mins_used\"]\n",
    "ultimate_minutes =calls_user_general[calls_user_general[\"plan\"] == \"ultimate\"][\"total_mins_used\"]"
   ]
  },
  {
   "cell_type": "code",
   "execution_count": null,
   "metadata": {},
   "outputs": [],
   "source": []
  },
  {
   "cell_type": "code",
   "execution_count": 42,
   "metadata": {},
   "outputs": [
    {
     "data": {
      "image/png": "[encoded data removed]",
      "text/plain": [
       "<Figure size 1000x600 with 1 Axes>"
      ]
     },
     "metadata": {},
     "output_type": "display_data"
    }
   ],
   "source": [
    "#paso 4.- grafico\n",
    "\n",
    "plt.figure(figsize=(10, 6))\n",
    "plt.hist(surf_minutes, bins=30, alpha=0.6, label=\"Surf\", color=\"orange\")\n",
    "plt.hist(ultimate_minutes, bins=30, alpha=0.6, label=\"Ultimate\", color=\"blue\")\n",
    "\n",
    "plt.title(\"Distribución de minutos usados mensualmente por plan\")\n",
    "plt.xlabel(\"Minutos usados\")\n",
    "plt.ylabel(\"Número de usuarios (frecuencia)\")\n",
    "plt.legend()\n",
    "plt.grid(True)\n",
    "plt.show()"
   ]
  },
  {
   "cell_type": "markdown",
   "metadata": {
    "id": "bLS9T8OH0q1K"
   },
   "source": [
    "[Calcula la media y la variable de la duración de las llamadas para averiguar si los usuarios de los distintos planes se comportan de forma diferente al realizar sus llamadas.]"
   ]
  },
  {
   "cell_type": "code",
   "execution_count": null,
   "metadata": {},
   "outputs": [],
   "source": []
  },
  {
   "cell_type": "code",
   "execution_count": 43,
   "metadata": {
    "id": "oSndbAnt0q1K"
   },
   "outputs": [
    {
     "name": "stdout",
     "output_type": "stream",
     "text": [
      "Los datos para la tarifa surf son los siguientes:\n",
      "varianza:  52537.04\n",
      "media:  436.52\n",
      "n:  1545\n",
      "\n",
      "\n",
      "mientras que los datos para la tarifa ultimate son:\n",
      "varianza:  56494.29\n",
      "media:  434.68\n",
      "n:  713\n"
     ]
    }
   ],
   "source": [
    "# Calcula la media y la varianza de la duración mensual de llamadas.\n",
    "\n",
    "#varianza\n",
    "varianza_surf=np.var(calls_user_surf_usage[\"total_mins_used\"])\n",
    "varianza_ultimate=np.var(calls_user_ultimate_usage[\"total_mins_used\"])\n",
    "#media\n",
    "media_surf=calls_user_surf_usage[\"total_mins_used\"].mean()\n",
    "media_ultimate=calls_user_ultimate_usage[\"total_mins_used\"].mean()\n",
    "\n",
    "#resultado\n",
    "print(\"Los datos para la tarifa surf son los siguientes:\")\n",
    "print(\"varianza: \",varianza_surf.round(2))\n",
    "print(\"media: \",media_surf.round(2))\n",
    "print(\"n: \",calls_user_surf_usage.shape[0])\n",
    "print(\"\\n\")\n",
    "print(\"mientras que los datos para la tarifa ultimate son:\")\n",
    "print(\"varianza: \",varianza_ultimate.round(2))\n",
    "print(\"media: \",media_ultimate.round(2))\n",
    "print(\"n: \",calls_user_ultimate_usage.shape[0])"
   ]
  },
  {
   "cell_type": "code",
   "execution_count": 44,
   "metadata": {
    "id": "nZzoRUKc0q1K"
   },
   "outputs": [
    {
     "name": "stdout",
     "output_type": "stream",
     "text": [
      "Plan surf\n"
     ]
    },
    {
     "data": {
      "text/plain": [
       "<AxesSubplot:xlabel='total_mins_used'>"
      ]
     },
     "execution_count": 44,
     "metadata": {},
     "output_type": "execute_result"
    },
    {
     "data": {
      "image/png": "[encoded data removed]",
      "text/plain": [
       "<Figure size 640x480 with 1 Axes>"
      ]
     },
     "metadata": {},
     "output_type": "display_data"
    }
   ],
   "source": [
    "# Traza un diagrama de caja para visualizar la distribución de la duración mensual de llamadas\n",
    "#paso 1.- saco los diagramas de caja para cada plan de telefonia\n",
    "\n",
    "print(\"Plan surf\")\n",
    "sns.boxplot(calls_user_surf_usage[\"total_mins_used\"])\n"
   ]
  },
  {
   "cell_type": "code",
   "execution_count": 45,
   "metadata": {},
   "outputs": [
    {
     "name": "stdout",
     "output_type": "stream",
     "text": [
      "Plan ultimate\n"
     ]
    },
    {
     "data": {
      "text/plain": [
       "<AxesSubplot:xlabel='total_mins_used'>"
      ]
     },
     "execution_count": 45,
     "metadata": {},
     "output_type": "execute_result"
    },
    {
     "data": {
      "image/png": "[encoded data removed]",
      "text/plain": [
       "<Figure size 640x480 with 1 Axes>"
      ]
     },
     "metadata": {},
     "output_type": "display_data"
    }
   ],
   "source": [
    "print(\"Plan ultimate\")\n",
    "sns.boxplot(calls_user_ultimate_usage[\"total_mins_used\"])"
   ]
  },
  {
   "cell_type": "code",
   "execution_count": 46,
   "metadata": {},
   "outputs": [
    {
     "name": "stdout",
     "output_type": "stream",
     "text": [
      "Plan surf\n",
      "count    1545.00\n",
      "mean      436.52\n",
      "std       229.28\n",
      "min         0.00\n",
      "25%       279.00\n",
      "50%       430.00\n",
      "75%       579.00\n",
      "max      1510.00\n",
      "Name: total_mins_used, dtype: float64\n",
      "________________\n",
      "Plan ultimate\n",
      "count     713.00\n",
      "mean      434.68\n",
      "std       237.85\n",
      "min         0.00\n",
      "25%       263.00\n",
      "50%       425.00\n",
      "75%       566.00\n",
      "max      1369.00\n",
      "Name: total_mins_used, dtype: float64\n"
     ]
    }
   ],
   "source": [
    "#paso 2.- quise sacar .describe() para ver en numero como estaban distribuidos los cuartiles\n",
    "print(\"Plan surf\")\n",
    "print(calls_user_surf_usage[\"total_mins_used\"].describe().round(2))\n",
    "print(\"________________\")\n",
    "print(\"Plan ultimate\")\n",
    "print(calls_user_ultimate_usage[\"total_mins_used\"].describe().round(2))\n",
    "\n",
    "#paso 3.- saco comparativa porcentual entre los dos describe\n",
    "resumen_surf=calls_user_surf_usage[\"total_mins_used\"].describe().round(2).reset_index(name=\"surf\")\n",
    "resumen_ultimate=calls_user_ultimate_usage[\"total_mins_used\"].describe().round(2).reset_index(name=\"ultimate\")\n",
    "resumen_final=resumen_surf.merge(resumen_ultimate,on=\"index\",how=\"left\")\n",
    "resumen_final[\"comparativa\"]=((resumen_final[\"surf\"]/resumen_final[\"ultimate\"]).round(2))*100\n",
    "\n"
   ]
  },
  {
   "cell_type": "code",
   "execution_count": null,
   "metadata": {},
   "outputs": [],
   "source": []
  },
  {
   "cell_type": "markdown",
   "metadata": {
    "id": "r627zBO50q1K"
   },
   "source": [
    "[Elabora las conclusiones sobre el comportamiento de los usuarios con respecto a las llamadas. ¿Su comportamiento varía en función del plan?]\n",
    "\n",
    "\n",
    "\"\"\"El análisis de la duración promedio de llamadas entre los planes Surf y Ultimate muestra que, en general, no existe una diferencia significativa entre ambos. Al observar el histograma, se aprecia una distribución sesgada a la derecha, lo cual indica que la mayoría de los usuarios realiza un uso moderado de los minutos disponibles. Considerando los límites de minutos incluidos en cada plan —500 para Surf y 3000 para Ultimate—, es evidente que los usuarios del plan Ultimate no suelen aprovechar al máximo este beneficio. Esta situación sugiere que quienes optan por este plan lo hacen posiblemente por dos razones: la primera, para evitar preocuparse por límites y posibles recargos; y la segunda, porque los minutos de llamadas no son un factor determinante en su decisión de plan. Además, los diagramas de caja muestran que los valores del plan Surf tienden a ser ligeramente más altos, aunque en general el comportamiento de consumo entre ambos grupos es similar. Cabe destacar que, debido a los recargos por uso adicional, el costo promedio mensual puede elevarse más para los usuarios del plan Surf, lo cual representa un punto importante al comparar la eficiencia de ambos planes.\"\"\""
   ]
  },
  {
   "cell_type": "markdown",
   "metadata": {
    "id": "8idKy8Wh0q1L"
   },
   "source": [
    "### Mensajes"
   ]
  },
  {
   "cell_type": "code",
   "execution_count": 47,
   "metadata": {
    "id": "NXLxiTit0q1L"
   },
   "outputs": [
    {
     "name": "stdout",
     "output_type": "stream",
     "text": [
      "          plan  month  user_id  msn\n",
      "1597  ultimate     11     1107   19\n",
      "777       surf     11     1084   93\n",
      "963       surf     11     1489   91\n",
      "1100      surf     12     1251   35\n",
      "908       surf     11     1350    3\n",
      "624       surf     10     1182    2\n",
      "842       surf     11     1215   92\n",
      "1135      surf     12     1316   70\n",
      "102       surf      5     1362   65\n",
      "1602  ultimate     11     1128   42\n"
     ]
    }
   ],
   "source": [
    "# Comprara el número de mensajes que tienden a enviar cada mes los usuarios de cada plan\n",
    "\n",
    "#paso 1.- obtenemos el plan en el que están los usuarios\n",
    "msn_usage=msn.merge(users,on=\"user_id\",how=\"left\")\n",
    "\n",
    "#paso 2.- ordenamos por plan, mes y usuario con la cantidad de mensajes enviados por mes\n",
    "msn_usage_general=msn_usage.groupby([\"plan\",\"month\",\"user_id\"])[\"message_date\"].count().reset_index(name=\"msn\")\n",
    "print(msn_usage_general.sample(10))\n"
   ]
  },
  {
   "cell_type": "code",
   "execution_count": 48,
   "metadata": {},
   "outputs": [
    {
     "data": {
      "image/png": "[encoded data removed]",
      "text/plain": [
       "<Figure size 1000x600 with 1 Axes>"
      ]
     },
     "metadata": {},
     "output_type": "display_data"
    }
   ],
   "source": [
    "#paso 3.- creamos resumen para grafico de histograma\n",
    "\n",
    "surf_msn=msn_usage_general[msn_usage_general[\"plan\"] == \"surf\"][\"msn\"]\n",
    "ultimate_msn =msn_usage_general[msn_usage_general[\"plan\"] == \"ultimate\"][\"msn\"]\n",
    "\n",
    "plt.figure(figsize=(10, 6))\n",
    "plt.hist(surf_msn, bins=30, alpha=0.6, label=\"Surf\", color=\"orange\")\n",
    "plt.hist(ultimate_msn, bins=30, alpha=0.6, label=\"Ultimate\", color=\"blue\")\n",
    "\n",
    "plt.title(\"Distribución de mensajes enviados por plan\")\n",
    "plt.xlabel(\"Mensajes enviados\")\n",
    "plt.ylabel(\"Número de usuarios (frecuencia)\")\n",
    "plt.legend()\n",
    "plt.grid(True)\n",
    "plt.show()"
   ]
  },
  {
   "cell_type": "code",
   "execution_count": null,
   "metadata": {},
   "outputs": [],
   "source": []
  },
  {
   "cell_type": "code",
   "execution_count": 49,
   "metadata": {},
   "outputs": [
    {
     "name": "stdout",
     "output_type": "stream",
     "text": [
      "Plan surf\n"
     ]
    },
    {
     "data": {
      "text/plain": [
       "<AxesSubplot:xlabel='msn'>"
      ]
     },
     "execution_count": 49,
     "metadata": {},
     "output_type": "execute_result"
    },
    {
     "data": {
      "image/png": "[encoded data removed]",
      "text/plain": [
       "<Figure size 640x480 with 1 Axes>"
      ]
     },
     "metadata": {},
     "output_type": "display_data"
    }
   ],
   "source": [
    "#paso 4.- creamos diagramas de caja\n",
    "print(\"Plan surf\")\n",
    "\n",
    "sns.boxplot(surf_msn)"
   ]
  },
  {
   "cell_type": "code",
   "execution_count": 50,
   "metadata": {},
   "outputs": [
    {
     "name": "stdout",
     "output_type": "stream",
     "text": [
      "Plan ultimate\n"
     ]
    },
    {
     "data": {
      "text/plain": [
       "<AxesSubplot:xlabel='msn'>"
      ]
     },
     "execution_count": 50,
     "metadata": {},
     "output_type": "execute_result"
    },
    {
     "data": {
      "image/png": "[encoded data removed]",
      "text/plain": [
       "<Figure size 640x480 with 1 Axes>"
      ]
     },
     "metadata": {},
     "output_type": "display_data"
    }
   ],
   "source": [
    "print(\"Plan ultimate\")\n",
    "plt.xlim(0,250)\n",
    "sns.boxplot(ultimate_msn)"
   ]
  },
  {
   "cell_type": "code",
   "execution_count": 51,
   "metadata": {
    "id": "GRI_R7xF0q1L"
   },
   "outputs": [
    {
     "name": "stdout",
     "output_type": "stream",
     "text": [
      "Los datos para la tarifa surf son los siguientes:\n",
      "varianza:  1090.45\n",
      "media:  40.11\n",
      "n:  1222\n",
      "\n",
      "\n",
      "mientras que los datos para la tarifa ultimate son:\n",
      "varianza:  1083.32\n",
      "media:  46.3\n",
      "n:  584\n",
      "\n",
      "\n",
      "________________\n",
      "Plan surf\n",
      "count    1222.00\n",
      "mean       40.11\n",
      "std        33.04\n",
      "min         1.00\n",
      "25%        16.00\n",
      "50%        32.00\n",
      "75%        54.00\n",
      "max       266.00\n",
      "Name: msn, dtype: float64\n",
      "________________\n",
      "Plan ultimate\n",
      "count    584.00\n",
      "mean      46.30\n",
      "std       32.94\n",
      "min        1.00\n",
      "25%       21.00\n",
      "50%       41.00\n",
      "75%       66.00\n",
      "max      166.00\n",
      "Name: msn, dtype: float64\n"
     ]
    }
   ],
   "source": [
    "#paso 5.- comparativa con describe\n",
    "\n",
    "#varianza\n",
    "varianza_surf_msn=np.var(surf_msn)\n",
    "varianza_ultimate_msn=np.var(ultimate_msn)\n",
    "#media\n",
    "media_surf_msn=surf_msn.mean()\n",
    "media_ultimate_msn=ultimate_msn.mean()\n",
    "\n",
    "#resultado\n",
    "print(\"Los datos para la tarifa surf son los siguientes:\")\n",
    "print(\"varianza: \",varianza_surf_msn.round(2))\n",
    "print(\"media: \",media_surf_msn.round(2))\n",
    "print(\"n: \",surf_msn.shape[0])\n",
    "print(\"\\n\")\n",
    "print(\"mientras que los datos para la tarifa ultimate son:\")\n",
    "print(\"varianza: \",varianza_ultimate_msn.round(2))\n",
    "print(\"media: \",media_ultimate_msn.round(2))\n",
    "print(\"n: \",ultimate_msn.shape[0])\n",
    "print(\"\\n\")\n",
    "print(\"________________\")\n",
    "\n",
    "#describe\n",
    "surf_msn2=msn_usage_general[msn_usage_general[\"plan\"] == \"surf\"]\n",
    "ultimate_msn2=msn_usage_general[msn_usage_general[\"plan\"] == \"ultimate\"]\n",
    "\n",
    "print(\"Plan surf\")\n",
    "print(surf_msn.describe().round(2))\n",
    "print(\"________________\")\n",
    "print(\"Plan ultimate\")\n",
    "print(ultimate_msn.describe().round(2))\n",
    "\n"
   ]
  },
  {
   "cell_type": "markdown",
   "metadata": {
    "id": "390SSL480q1M"
   },
   "source": [
    "[Elabora las conclusiones sobre el comportamiento de los usuarios con respecto a los mensajes. ¿Su comportamiento varía en función del plan?]\n",
    "\n",
    "\n",
    "\"\"\"El análisis del comportamiento de uso de mensajes por parte de los usuarios en relación al plan contratado revela diferencias más marcadas que las observadas en el uso de llamadas. A través del histograma, se puede apreciar que los usuarios del plan Ultimate (color morado) presentan un comportamiento más uniforme y distribuido a lo largo del eje de los mensajes enviados, mientras que los usuarios del plan Surf concentran su comportamiento hacia los valores más bajos, lo que indica que envían significativamente menos mensajes.\n",
    "\n",
    "La gráfica de bloques (boxplot) refuerza esta observación: el rango intercuartílico del plan Ultimate está desplazado hacia la derecha, reflejando un mayor número de mensajes enviados por sus usuarios. Sin embargo, resulta interesante notar que los valores extremos en el plan Surf, aunque menos frecuentes, pueden ser incluso más altos que los del plan Ultimate, lo que sugiere una mayor variabilidad en algunos casos particulares.\n",
    "\n",
    "Finalmente, el análisis estadístico mediante .describe() confirma estas diferencias: el plan Ultimate presenta una media superior en el número de mensajes enviados, así como cuartiles (25%, 50% y 75%) consistentemente más altos en comparación con el plan Surf. Estos hallazgos sugieren que los usuarios del plan Ultimate tienden a hacer un uso más intensivo del servicio de mensajería, posiblemente reflejando un perfil de usuario con mayores necesidades de comunicación o una mayor disposición a aprovechar los beneficios del plan contratado.\"\"\"\n"
   ]
  },
  {
   "cell_type": "markdown",
   "metadata": {
    "id": "42YSypXz0q1M"
   },
   "source": [
    "### Internet"
   ]
  },
  {
   "cell_type": "code",
   "execution_count": 52,
   "metadata": {
    "id": "lSuKPtjh0q1M"
   },
   "outputs": [
    {
     "name": "stdout",
     "output_type": "stream",
     "text": [
      "          plan  month  user_id  gb_used\n",
      "1970  ultimate     10     1390       41\n",
      "1168      surf     11     1355       49\n",
      "193       surf      6     1153       11\n",
      "1926  ultimate     10     1159       31\n",
      "1546      surf     12     1484       16\n",
      "1488      surf     12     1371       67\n",
      "1124      surf     11     1290       21\n",
      "905       surf     10     1366       52\n",
      "780       surf     10     1117       58\n",
      "1129      surf     11     1295       49\n"
     ]
    }
   ],
   "source": [
    "# Compara la cantidad de tráfico de Internet consumido por usuarios por plan\n",
    "\n",
    "\n",
    "#paso 1.- obtenemos el plan en el que están los usuarios\n",
    "internet_usage=internet.merge(users,on=\"user_id\",how=\"left\")\n",
    "\n",
    "#paso 2.- ordenamos por plan, mes y usuario con la cantidad de mensajes enviados por mes\n",
    "internet_usage_general=internet_usage.groupby([\"plan\",\"month\",\"user_id\"])[\"gb_used\"].count().reset_index(name=\"gb_used\")\n",
    "print(internet_usage_general.sample(10))"
   ]
  },
  {
   "cell_type": "code",
   "execution_count": 53,
   "metadata": {
    "id": "wnh8jYXi0q1N"
   },
   "outputs": [
    {
     "data": {
      "image/png": "[encoded data removed]",
      "text/plain": [
       "<Figure size 1000x600 with 1 Axes>"
      ]
     },
     "metadata": {},
     "output_type": "display_data"
    }
   ],
   "source": [
    "#paso 3.- creamos resumen para grafico de histograma\n",
    "\n",
    "surf_internet=internet_usage_general[internet_usage_general[\"plan\"] == \"surf\"][\"gb_used\"]\n",
    "ultimate_internet =internet_usage_general[internet_usage_general[\"plan\"] == \"ultimate\"][\"gb_used\"]\n",
    "\n",
    "plt.figure(figsize=(10, 6))\n",
    "plt.hist(surf_internet, bins=30, alpha=0.6, label=\"Surf\", color=\"orange\")\n",
    "plt.hist(ultimate_internet, bins=30, alpha=0.6, label=\"Ultimate\", color=\"blue\")\n",
    "\n",
    "plt.title(\"Distribución de gb usados por plan\")\n",
    "plt.xlabel(\"GB usados\")\n",
    "plt.ylabel(\"Número de usuarios (frecuencia)\")\n",
    "plt.legend()\n",
    "plt.grid(True)\n",
    "plt.show()"
   ]
  },
  {
   "cell_type": "code",
   "execution_count": 54,
   "metadata": {
    "id": "5VlyJ9ry0q1N"
   },
   "outputs": [
    {
     "name": "stdout",
     "output_type": "stream",
     "text": [
      "Plan surf\n"
     ]
    },
    {
     "data": {
      "text/plain": [
       "<AxesSubplot:xlabel='gb_used'>"
      ]
     },
     "execution_count": 54,
     "metadata": {},
     "output_type": "execute_result"
    },
    {
     "data": {
      "image/png": "[encoded data removed]",
      "text/plain": [
       "<Figure size 640x480 with 1 Axes>"
      ]
     },
     "metadata": {},
     "output_type": "display_data"
    }
   ],
   "source": [
    "#paso 4.- creamos diagramas de caja\n",
    "print(\"Plan surf\")\n",
    "sns.boxplot(surf_internet)"
   ]
  },
  {
   "cell_type": "code",
   "execution_count": 55,
   "metadata": {},
   "outputs": [
    {
     "name": "stdout",
     "output_type": "stream",
     "text": [
      "Plan ultimate\n"
     ]
    },
    {
     "data": {
      "text/plain": [
       "<AxesSubplot:xlabel='gb_used'>"
      ]
     },
     "execution_count": 55,
     "metadata": {},
     "output_type": "execute_result"
    },
    {
     "data": {
      "image/png": "[encoded data removed]",
      "text/plain": [
       "<Figure size 640x480 with 1 Axes>"
      ]
     },
     "metadata": {},
     "output_type": "display_data"
    }
   ],
   "source": [
    "\n",
    "print(\"Plan ultimate\")\n",
    "plt.xlim(0,140)\n",
    "sns.boxplot(ultimate_internet)"
   ]
  },
  {
   "cell_type": "code",
   "execution_count": 56,
   "metadata": {},
   "outputs": [
    {
     "name": "stdout",
     "output_type": "stream",
     "text": [
      "Los datos para la tarifa surf son los siguientes:\n",
      "varianza:  388.75\n",
      "media:  45.95\n",
      "n:  1558\n",
      "\n",
      "\n",
      "mientras que los datos para la tarifa ultimate son:\n",
      "varianza:  333.73\n",
      "media:  46.23\n",
      "n:  719\n",
      "\n",
      "\n",
      "________________\n",
      "Plan surf\n",
      "count    1558.00\n",
      "mean       45.95\n",
      "std        19.72\n",
      "min         1.00\n",
      "25%        35.00\n",
      "50%        48.00\n",
      "75%        59.00\n",
      "max       138.00\n",
      "Name: gb_used, dtype: float64\n",
      "________________\n",
      "Plan ultimate\n",
      "count    719.00\n",
      "mean      46.23\n",
      "std       18.28\n",
      "min        1.00\n",
      "25%       36.00\n",
      "50%       49.00\n",
      "75%       58.00\n",
      "max      111.00\n",
      "Name: gb_used, dtype: float64\n"
     ]
    }
   ],
   "source": [
    "#paso 5.- comparativa con describe\n",
    "\n",
    "#varianza\n",
    "varianza_surf_internet=np.var(surf_internet)\n",
    "varianza_ultimate_internet=np.var(ultimate_internet)\n",
    "#media\n",
    "media_surf_internet=surf_internet.mean()\n",
    "media_ultimate_internet=ultimate_internet.mean()\n",
    "\n",
    "#resultado\n",
    "print(\"Los datos para la tarifa surf son los siguientes:\")\n",
    "print(\"varianza: \",varianza_surf_internet.round(2))\n",
    "print(\"media: \",media_surf_internet.round(2))\n",
    "print(\"n: \",surf_internet.shape[0])\n",
    "print(\"\\n\")\n",
    "print(\"mientras que los datos para la tarifa ultimate son:\")\n",
    "print(\"varianza: \",varianza_ultimate_internet.round(2))\n",
    "print(\"media: \",media_ultimate_internet.round(2))\n",
    "print(\"n: \",ultimate_internet.shape[0])\n",
    "print(\"\\n\")\n",
    "print(\"________________\")\n",
    "\n",
    "#describe\n",
    "surf_internet2=internet_usage_general[internet_usage_general[\"plan\"] == \"surf\"]\n",
    "ultimate_internet2=internet_usage_general[internet_usage_general[\"plan\"] == \"ultimate\"]\n",
    "\n",
    "print(\"Plan surf\")\n",
    "print(surf_internet2[\"gb_used\"].describe().round(2))\n",
    "print(\"________________\")\n",
    "print(\"Plan ultimate\")\n",
    "print(ultimate_internet2[\"gb_used\"].describe().round(2))\n",
    "\n",
    "\n"
   ]
  },
  {
   "cell_type": "markdown",
   "metadata": {
    "id": "UN9zwuMP0q1N"
   },
   "source": [
    "[Elabora las conclusiones sobre cómo los usuarios tienden a consumir el tráfico de Internet. ¿Su comportamiento varía en función del plan?]\n",
    "\n",
    "\"\"\"El análisis del consumo de datos móviles entre los usuarios de ambos planes revela un comportamiento sorprendentemente similar. Las diferencias en el consumo promedio de internet entre las tarifas “Surf” y “Ultimate” son menores al 1%, lo que indica que este servicio no es un factor decisivo a la hora de elegir un plan.\n",
    "\n",
    "El histograma refuerza esta observación, mostrando distribuciones casi idénticas en los intervalos del eje X (GB utilizados). Esta similitud en el comportamiento de uso proporciona una visión clara del patrón de consumo de datos por parte de los usuarios, independientemente del plan contratado.\n",
    "\n",
    "Al examinar los diagramas de caja, se observa una mediana ligeramente desplazada hacia la derecha en la tarifa “Ultimate”, lo que podría sugerir un consumo ligeramente mayor. Sin embargo, el rango intercuartílico es muy similar entre ambos planes. Es interesante notar que los valores atípicos (outliers) más altos se presentan con mayor frecuencia en la tarifa “Surf”.\n",
    "\n",
    "Finalmente, el análisis estadístico utilizando .describe() confirma estas tendencias: tanto la media como la varianza del consumo de datos son prácticamente iguales entre los dos planes. Estos resultados permiten concluir que el uso de internet móvil no influye significativamente en la elección del plan por parte de los usuarios.\"\"\"\n"
   ]
  },
  {
   "cell_type": "markdown",
   "metadata": {
    "id": "tCijq3260q1N"
   },
   "source": [
    "## Ingreso"
   ]
  },
  {
   "cell_type": "markdown",
   "metadata": {
    "id": "9nq5IAcy0q1O"
   },
   "source": [
    "[Del mismo modo que has estudiado el comportamiento de los usuarios, describe estadísticamente los ingresos de los planes.]"
   ]
  },
  {
   "cell_type": "code",
   "execution_count": 57,
   "metadata": {
    "id": "tz-dq_V00q1O"
   },
   "outputs": [],
   "source": [
    "#paso 1.- creamos los dos df por tarifa\n",
    "plan_surf=user_usage_2.query(\"plan_name=='surf' and status=='active'\")\n",
    "plan_ultimate=user_usage_2.query(\"plan_name=='ultimate' and status=='active'\")\n"
   ]
  },
  {
   "cell_type": "code",
   "execution_count": 58,
   "metadata": {
    "id": "0Y1v8ZUz0q1P"
   },
   "outputs": [
    {
     "data": {
      "image/png": "[encoded data removed]",
      "text/plain": [
       "<Figure size 1000x600 with 1 Axes>"
      ]
     },
     "metadata": {},
     "output_type": "display_data"
    }
   ],
   "source": [
    "#paso 2.- realizamos histograma\n",
    "plan_surf_income=plan_surf[\"total_payment\"]\n",
    "plan_ultimate_income=plan_ultimate[\"total_payment\"]\n",
    "\n",
    "plt.figure(figsize=(10, 6))\n",
    "plt.hist(plan_surf_income, bins=10, alpha=0.9, label=\"Surf\", color=\"orange\")\n",
    "plt.hist(plan_ultimate_income, bins=10, alpha=0.9, label=\"Ultimate\", color=\"blue\")\n",
    "\n",
    "plt.title(\"Ingresos por plan\")\n",
    "plt.xlabel(\"Ingreso en $\")\n",
    "plt.ylabel(\"Número de usuarios (frecuencia)\")\n",
    "plt.legend()\n",
    "plt.grid(True)\n",
    "plt.show()"
   ]
  },
  {
   "cell_type": "code",
   "execution_count": 59,
   "metadata": {},
   "outputs": [
    {
     "name": "stdout",
     "output_type": "stream",
     "text": [
      "Color morado representa al plan ultimate y amarillo al plan surf\n"
     ]
    },
    {
     "data": {
      "image/png": "[encoded data removed]",
      "text/plain": [
       "<Figure size 640x480 with 1 Axes>"
      ]
     },
     "metadata": {},
     "output_type": "display_data"
    }
   ],
   "source": [
    "#paso 3.- creamos grafico de dispersion \n",
    "plt.xlabel(\"Total Payment\")\n",
    "plt.title(\"Distribución de pagos por plan\")\n",
    "plt.xlim(0,300)\n",
    "\n",
    "sns.stripplot(x=plan_ultimate[\"total_payment\"], alpha=0.5,color=\"purple\")\n",
    "sns.stripplot(x=plan_surf[\"total_payment\"], alpha=0.1,color=\"orange\")\n",
    "print(\"Color morado representa al plan ultimate y amarillo al plan surf\")"
   ]
  },
  {
   "cell_type": "code",
   "execution_count": 60,
   "metadata": {},
   "outputs": [
    {
     "name": "stdout",
     "output_type": "stream",
     "text": [
      "Los datos para la tarifa surf son los siguientes:\n",
      "varianza:  2465.28\n",
      "media:  48.15\n",
      "n:  2227\n",
      "\n",
      "\n",
      "mientras que los datos para la tarifa ultimate son:\n",
      "varianza:  89.24\n",
      "media:  71.57\n",
      "n:  1060\n",
      "\n",
      "\n",
      "________________\n",
      "Plan surf\n",
      "count    2227.00\n",
      "mean       48.15\n",
      "std        49.66\n",
      "min        20.00\n",
      "25%        20.00\n",
      "50%        20.15\n",
      "75%        60.00\n",
      "max       588.09\n",
      "Name: total_payment, dtype: float64\n",
      "________________\n",
      "Plan ultimate\n",
      "count    1060.00\n",
      "mean       71.57\n",
      "std         9.45\n",
      "min        70.00\n",
      "25%        70.00\n",
      "50%        70.00\n",
      "75%        70.00\n",
      "max       182.00\n",
      "Name: total_payment, dtype: float64\n"
     ]
    }
   ],
   "source": [
    "#paso 4.- comparativa con describe\n",
    "\n",
    "#varianza\n",
    "varianza_surf_plan=np.var(plan_surf[\"total_payment\"])\n",
    "varianza_ultimate_plan=np.var(plan_ultimate[\"total_payment\"])\n",
    "#media\n",
    "media_surf_plan=plan_surf[\"total_payment\"].mean()\n",
    "media_ultimate_plan=plan_ultimate[\"total_payment\"].mean()\n",
    "\n",
    "#resultado\n",
    "print(\"Los datos para la tarifa surf son los siguientes:\")\n",
    "print(\"varianza: \",varianza_surf_plan.round(2))\n",
    "print(\"media: \",media_surf_plan.round(2))\n",
    "print(\"n: \",plan_surf.shape[0])\n",
    "print(\"\\n\")\n",
    "print(\"mientras que los datos para la tarifa ultimate son:\")\n",
    "print(\"varianza: \",varianza_ultimate_plan.round(2))\n",
    "print(\"media: \",media_ultimate_plan.round(2))\n",
    "print(\"n: \",plan_ultimate.shape[0])\n",
    "print(\"\\n\")\n",
    "print(\"________________\")\n",
    "\n",
    "#describe\n",
    "surf_internet2=internet_usage_general[internet_usage_general[\"plan\"] == \"surf\"]\n",
    "ultimate_internet2=internet_usage_general[internet_usage_general[\"plan\"] == \"ultimate\"]\n",
    "\n",
    "print(\"Plan surf\")\n",
    "print(plan_surf[\"total_payment\"].describe().round(2))\n",
    "print(\"________________\")\n",
    "print(\"Plan ultimate\")\n",
    "print(plan_ultimate[\"total_payment\"].describe().round(2))"
   ]
  },
  {
   "cell_type": "code",
   "execution_count": 61,
   "metadata": {},
   "outputs": [
    {
     "name": "stdout",
     "output_type": "stream",
     "text": [
      "La probabilidad de que un usuario del plan ultimate pague mas que la tarifa mensual es de:  56.6 %\n",
      "Mientras que la probabilidad para un usuario del plan surf es de:  71.46 %\n"
     ]
    }
   ],
   "source": [
    "#paso 5.- probabilidad de exceder el pago de tarifa por cada uno de los dos planes\n",
    "mu_surf=48.15\n",
    "sigma_surf=49.66\n",
    "threshold_surf=20\n",
    "p_20=1-st.norm(mu_surf,sigma_surf).cdf(threshold_surf)\n",
    "p_20*=100\n",
    "p_20=p_20.round(2)\n",
    "\n",
    "mu_ult=71.57\n",
    "sigma_ult=9.45\n",
    "threshold_ult=70\n",
    "\n",
    "p_70=1-st.norm(mu_ult,sigma_ult).cdf(threshold_ult)\n",
    "p_70*=100\n",
    "p_70=p_70.round(2)\n",
    "print(\"La probabilidad de que un usuario del plan ultimate pague mas que la tarifa mensual es de: \",p_70,\"%\")\n",
    "print(\"Mientras que la probabilidad para un usuario del plan surf es de: \",p_20,\"%\")"
   ]
  },
  {
   "cell_type": "markdown",
   "metadata": {
    "id": "KAFidcXZ0q1P"
   },
   "source": [
    "[Elabora las conclusiones sobre cómo difiere el ingreso entre los planes.]\n",
    "\n",
    "\"\"\"Al analizar los ingresos generados por cada tarifa, se observa un cambio importante respecto a los análisis previos de consumo (minutos, mensajes e internet), donde no se encontraron diferencias significativas en el comportamiento de los usuarios. Si bien los usuarios del plan Ultimate tienden a consumir ligeramente más minutos e internet, los ingresos presentan una diferencia más marcada.\n",
    "\n",
    "El histograma revela que los usuarios del plan Ultimate mantienen sus pagos en torno a su tarifa fija mensual, con una media más baja y un rango de valores reducido, lo cual sugiere que rara vez incurren en cargos adicionales por sobrepasar los límites incluidos en el plan. En contraste, los usuarios del plan Surf presentan una mayor dispersión en los pagos mensuales, evidenciada por una media más alta, mayor varianza y desviación estándar, lo cual indica una mayor frecuencia de recargos por excedentes.\n",
    "\n",
    "El segundo gráfico refuerza esta observación: la distribución de pagos del plan Ultimate (color morado) se concentra fuertemente en los 70 USD, su tarifa mensual, con muy pocos valores atípicos. Por otro lado, la distribución del plan Surf (color naranja) muestra una mayor dispersión y valores atípicos más frecuentes por encima de su tarifa base.\n",
    "\n",
    "Además, al calcular la probabilidad de que un usuario pague más que su tarifa mensual, se observa que:\n",
    "\t•\tLa probabilidad de que un usuario del plan Ultimate pague más de 70 USD es de apenas 56.6%.\n",
    "\t•\tMientras que en el plan Surf, la probabilidad de superar el pago base es de 71.46%.\n",
    "\n",
    "En resumen, a pesar de tener comportamientos de consumo similares entre usuarios de ambos planes, el modelo de tarifas genera diferencias importantes en los ingresos. Los usuarios del plan Surf tienden a pagar más en total debido a recargos, mientras que los del plan Ultimate mantienen un pago más estable y predecible. Esto sugiere que el comportamiento de consumo no varía significativamente según el plan, pero los límites y condiciones de cada tarifa sí impactan los ingresos generados por usuario.\"\"\""
   ]
  },
  {
   "cell_type": "markdown",
   "metadata": {},
   "source": [
    "<div class=\"alert alert-block alert-success\">\n",
    "<b>Comentario revisor</b> <a class=\"tocSkip\"></a>\n",
    "\n",
    " Muy buena prática la de usar distintos tipos de gráficas identificar algunos hallazgos y llegar a conclusiones\n",
    "</div>"
   ]
  },
  {
   "cell_type": "markdown",
   "metadata": {
    "id": "ajJ7VKeI0q1Q"
   },
   "source": [
    "## Prueba las hipótesis estadísticas"
   ]
  },
  {
   "cell_type": "markdown",
   "metadata": {
    "id": "AdXAZ-yL0q1Q"
   },
   "source": [
    "[Prueba la hipótesis de que son diferentes los ingresos promedio procedentes de los usuarios de los planes de llamada Ultimate y Surf.]"
   ]
  },
  {
   "cell_type": "markdown",
   "metadata": {
    "id": "IQwa_hsh0q1Q"
   },
   "source": [
    "[Elabora las hipótesis nula y alternativa, escoge la prueba estadística, determina el valor alfa.]"
   ]
  },
  {
   "cell_type": "code",
   "execution_count": null,
   "metadata": {},
   "outputs": [],
   "source": []
  },
  {
   "cell_type": "code",
   "execution_count": 74,
   "metadata": {},
   "outputs": [
    {
     "name": "stdout",
     "output_type": "stream",
     "text": [
      "valor p: 5.399289329021684e-94\n",
      "Rechazamos la hipótesis nula, las medias son distintas\n"
     ]
    }
   ],
   "source": [
    "# Prueba las hipótesis\n",
    "surf_payments=plan_surf[\"total_payment\"]\n",
    "ultimate_payments=plan_ultimate[\"total_payment\"]\n",
    "alpha=0.05\n",
    "\n",
    "result=st.ttest_ind(surf_payments, ultimate_payments, equal_var=False)\n",
    "print('valor p:',result.pvalue)\n",
    "\n",
    "\n",
    "if result.pvalue<alpha:\n",
    "    print(\"Rechazamos la hipótesis nula, las medias son distintas\")\n",
    "else:\n",
    "    print(\"No podemos rechazar la hipótesis nula, las medias son iguales\")\n"
   ]
  },
  {
   "cell_type": "markdown",
   "metadata": {
    "id": "tCcAruM60q1R"
   },
   "source": [
    "[Prueba la hipótesis de que el ingreso promedio de los usuarios del área NY-NJ es diferente al de los usuarios de otras regiones.]"
   ]
  },
  {
   "cell_type": "markdown",
   "metadata": {
    "id": "LsBgitqj0q1R"
   },
   "source": [
    "[Elabora las hipótesis nula y alternativa, escoge la prueba estadística, determina el valor alfa.]"
   ]
  },
  {
   "cell_type": "code",
   "execution_count": 71,
   "metadata": {
    "id": "Cqcj7wrZ0q1S"
   },
   "outputs": [
    {
     "name": "stdout",
     "output_type": "stream",
     "text": [
      "valor p: 0.025413655587759067\n",
      "Rechazamos la hipótesis nula, las medias son distintas\n"
     ]
    },
    {
     "data": {
      "image/png": "[encoded data removed]",
      "text/plain": [
       "<Figure size 1000x600 with 1 Axes>"
      ]
     },
     "metadata": {},
     "output_type": "display_data"
    }
   ],
   "source": [
    "# Prueba las hipótesis\n",
    "\n",
    "target=user_usage_2.query(\"city_code=='ny-nj-pa msa' and status=='active'\")\n",
    "rest=user_usage_2.query(\"city_code!='ny-nj-pa msa' and status=='active'\")\n",
    "\n",
    "# Prueba las hipótesis\n",
    "target_payments=target[\"total_payment\"]\n",
    "rest_payments=rest[\"total_payment\"]\n",
    "alpha=0.05\n",
    "\n",
    "result=st.ttest_ind(target_payments, rest_payments, equal_var=False)\n",
    "print('valor p:',result.pvalue)\n",
    "\n",
    "\n",
    "if result.pvalue<alpha:\n",
    "    print(\"Rechazamos la hipótesis nula, las medias son distintas\")\n",
    "else:\n",
    "    print(\"No podemos rechazar la hipótesis nula, las medias son iguales\")\n",
    "#represenaión grafica de distribuciones en histograma \n",
    "target_income=target[\"total_payment\"]\n",
    "rest_income=rest[\"total_payment\"]\n",
    "\n",
    "plt.figure(figsize=(10, 6))\n",
    "sns.kdeplot(target_income, label=\"NY-NJ-PA MSA\", fill=True, color=\"orange\", alpha=0.5)\n",
    "sns.kdeplot(rest_income, label=\"Otras áreas\", fill=True, color=\"blue\", alpha=0.5)\n",
    "plt.xlim(0, 300)\n",
    "plt.title(\"Distribución de ingresos por área (KDE)\")\n",
    "plt.xlabel(\"Ingreso en $\")\n",
    "plt.ylabel(\"Densidad\")\n",
    "plt.legend()\n",
    "plt.grid(True)\n",
    "plt.show()"
   ]
  },
  {
   "cell_type": "markdown",
   "metadata": {},
   "source": [
    "<div class=\"alert alert-block alert-success\">\n",
    "<b>Comentario revisor</b> <a class=\"tocSkip\"></a>\n",
    "\n",
    "Excelente trabajo con el desarrollo de las pruebas de hipótesis. Solamente en futuras ocasiones te recomiendo considerar realizar la prueba de levene para mostrar el supuesto de varianzas iguales. "
   ]
  },
  {
   "cell_type": "code",
   "execution_count": 73,
   "metadata": {},
   "outputs": [
    {
     "data": {
      "text/plain": [
       "'Para evaluar si existe una diferencia significativa en el tipo de plan contratado entre los usuarios de la región NY-NJ-PA MSA y el resto del país, se utilizó un diagrama de densidad (KDE). Este tipo de gráfico es útil en este contexto, ya que normaliza las distribuciones, permitiendo comparar poblaciones de diferente tamaño sin que el volumen de usuarios afecte la visualización.La distribución de ingresos muestra patrones distintivos entre ambos grupos:Usuarios de NY-NJ-PA MSA (curva naranja) presentan una densidad más concentrada en los rangos de ingreso correspondientes al plan Surf, lo que sugiere una mayor preferencia por este plan en dicha región.Por otro lado, en el resto del país (curva azul) se observa una distribución más equilibrada entre los niveles de ingreso correspondientes tanto al plan Surf como al plan Ultimate, lo que indica una adopción más homogénea de ambos planes en comparación con NY-NJ-PA.'"
      ]
     },
     "execution_count": 73,
     "metadata": {},
     "output_type": "execute_result"
    }
   ],
   "source": [
    "\"\"\"Para evaluar si existe una diferencia significativa en el tipo de plan contratado entre los usuarios de la región NY-NJ-PA MSA y el resto del país, se utilizó un diagrama de densidad (KDE). Este tipo de gráfico es útil en este contexto, ya que normaliza las distribuciones, permitiendo comparar poblaciones de diferente tamaño sin que el volumen de usuarios afecte la visualización.La distribución de ingresos muestra patrones distintivos entre ambos grupos:Usuarios de NY-NJ-PA MSA (curva naranja) presentan una densidad más concentrada en los rangos de ingreso correspondientes al plan Surf, lo que sugiere una mayor preferencia por este plan en dicha región.Por otro lado, en el resto del país (curva azul) se observa una distribución más equilibrada entre los niveles de ingreso correspondientes tanto al plan Surf como al plan Ultimate, lo que indica una adopción más homogénea de ambos planes en comparación con NY-NJ-PA.\"\"\""
   ]
  },
  {
   "cell_type": "markdown",
   "metadata": {
    "id": "bbTR8UQO0q1T"
   },
   "source": [
    "## Conclusión general\n",
    "\n",
    "[En esta sección final, enumera tus conclusiones importantes. Asegúrate de que estas abarquen todas las decisiones (suposiciones) importantes que adoptaste y que determinaron la forma elegida para procesar y analizar los datos.]\n",
    "\n",
    "\n",
    "Conclusión General – Análisis del Comportamiento de Uso y Pago por Plan Tarifario\n",
    "\n",
    "1. Uso de servicios (minutos, SMS, datos)\n",
    "- El consumo de minutos e internet tiende a ser ligeramente mayor en el plan Ultimate, pero sin diferencias significativas.\n",
    "- El consumo de mensajes SMS es considerablemente más bajo en el plan Surf, lo que refleja un desuso generalizado, especialmente entre usuarios de este plan.\n",
    "- El uso de internet es prácticamente idéntico entre planes, con menos del 1% de diferencia. Las gráficas de densidad y diagramas de caja confirman esta similitud.\n",
    "\n",
    "2. Comportamiento de pago\n",
    "- Usuarios del plan Ultimate tienden a pagar únicamente el valor fijo mensual (70 USD), mostrando baja varianza y menor frecuencia de pagos adicionales.\n",
    "- En contraste, los usuarios del plan Surf presentan mayor dispersión en pagos, con numerosos casos de recargos por sobreuso.\n",
    "- La prueba estadística de hipótesis (t-test) arrojó un valor p muy bajo, lo que permite concluir que las medias de pago entre planes son significativamente distintas.\n",
    "- Probabilidad de pagar más que la tarifa base:\n",
    "  - Ultimate: 56.6%\n",
    "  - Surf: 71.5%\n",
    "\n",
    "3. Preferencias por región geográfica\n",
    "- En la región NY-NJ-PA MSA, hay una clara preferencia por el plan Surf, con menor presencia del plan Ultimate.\n",
    "- En el resto del país, la adopción de planes es más equilibrada.\n",
    "- Esta conclusión fue respaldada mediante un gráfico de densidad, el cual eliminó el sesgo por tamaño de muestra.\n",
    "\n",
    "4. Resumen\n",
    "- El consumo de servicios no varía significativamente entre los planes.\n",
    "- El comportamiento de pago sí varía, siendo más predecible y controlado en el plan Ultimate.\n",
    "- Existe oportunidad de análisis por potencial incremento de ingresos en el manejo de los cargos extra del plan Surf.\n",
    "- Las decisiones de contratación parecen estar influenciadas más por la percepción del precio y la región geográfica que por el patrón de consumo real.\n",
    "- La diferencia en un área como NY-NJ indica oportunidades de segmentación en marketing y publicidad.\n"
   ]
  }
 ],
 "metadata": {
  "ExecuteTimeLog": [
   {
    "duration": 828,
    "start_time": "2021-11-16T09:21:11.304Z"
   },
   {
    "duration": 893,
    "start_time": "2021-11-16T09:21:17.728Z"
   },
   {
    "duration": 1150,
    "start_time": "2021-11-16T09:21:29.568Z"
   },
   {
    "duration": 3,
    "start_time": "2021-11-16T09:24:14.495Z"
   },
   {
    "duration": 120,
    "start_time": "2021-11-16T09:24:46.630Z"
   },
   {
    "duration": 3,
    "start_time": "2021-11-16T09:28:27.882Z"
   },
   {
    "duration": 4,
    "start_time": "2021-11-16T09:29:54.281Z"
   },
   {
    "duration": 3,
    "start_time": "2021-11-16T09:30:45.936Z"
   },
   {
    "duration": 4,
    "start_time": "2021-11-16T09:31:06.300Z"
   },
   {
    "duration": 113,
    "start_time": "2021-11-16T09:31:37.208Z"
   },
   {
    "duration": 143,
    "start_time": "2021-11-16T09:31:48.656Z"
   },
   {
    "duration": 98,
    "start_time": "2021-11-16T09:31:55.678Z"
   },
   {
    "duration": 3,
    "start_time": "2021-11-16T09:32:08.535Z"
   },
   {
    "duration": 111,
    "start_time": "2021-11-16T09:32:10.120Z"
   },
   {
    "duration": 3,
    "start_time": "2021-11-16T09:32:15.732Z"
   },
   {
    "duration": 4,
    "start_time": "2021-11-16T09:32:29.423Z"
   },
   {
    "duration": 3,
    "start_time": "2021-11-16T10:03:03.074Z"
   },
   {
    "duration": 3,
    "start_time": "2021-11-16T10:10:01.288Z"
   },
   {
    "duration": 3,
    "start_time": "2021-11-16T10:10:46.923Z"
   },
   {
    "duration": 121,
    "start_time": "2021-11-16T10:37:46.494Z"
   },
   {
    "duration": 125,
    "start_time": "2021-11-16T10:38:20.632Z"
   },
   {
    "duration": 112,
    "start_time": "2021-11-16T10:46:53.001Z"
   },
   {
    "duration": 110,
    "start_time": "2021-11-16T10:48:25.775Z"
   },
   {
    "duration": 3,
    "start_time": "2021-11-16T10:50:18.720Z"
   },
   {
    "duration": 4,
    "start_time": "2021-11-16T10:50:37.649Z"
   },
   {
    "duration": 2,
    "start_time": "2021-11-16T10:50:51.884Z"
   },
   {
    "duration": 3,
    "start_time": "2021-11-16T10:51:56.237Z"
   },
   {
    "duration": 101,
    "start_time": "2021-11-16T10:53:13.791Z"
   },
   {
    "duration": 3,
    "start_time": "2021-11-16T10:55:59.186Z"
   },
   {
    "duration": 3,
    "start_time": "2021-11-16T10:56:10.751Z"
   },
   {
    "duration": 3,
    "start_time": "2021-11-16T10:56:49.038Z"
   },
   {
    "duration": 3,
    "start_time": "2021-11-16T10:56:49.174Z"
   },
   {
    "duration": 4,
    "start_time": "2021-11-16T10:56:49.414Z"
   },
   {
    "duration": 3,
    "start_time": "2021-11-16T10:56:49.680Z"
   },
   {
    "duration": 3,
    "start_time": "2021-11-16T10:56:50.370Z"
   },
   {
    "duration": 114,
    "start_time": "2021-11-16T10:59:34.518Z"
   },
   {
    "duration": 3,
    "start_time": "2021-11-16T11:01:41.201Z"
   },
   {
    "duration": 116,
    "start_time": "2021-11-16T11:01:48.754Z"
   },
   {
    "duration": 3,
    "start_time": "2021-11-16T11:02:16.685Z"
   },
   {
    "duration": 3,
    "start_time": "2021-11-16T11:02:19.479Z"
   },
   {
    "duration": 3,
    "start_time": "2021-11-16T11:02:47.067Z"
   },
   {
    "duration": 3,
    "start_time": "2021-11-16T11:02:49.353Z"
   },
   {
    "duration": 3,
    "start_time": "2021-11-16T11:03:07.835Z"
   },
   {
    "duration": 3,
    "start_time": "2021-11-16T11:03:07.953Z"
   },
   {
    "duration": 112,
    "start_time": "2021-11-16T11:07:52.072Z"
   },
   {
    "duration": 187,
    "start_time": "2021-11-16T11:09:23.468Z"
   },
   {
    "duration": 4,
    "start_time": "2021-11-16T11:10:01.455Z"
   },
   {
    "duration": 3,
    "start_time": "2021-11-16T11:10:05.069Z"
   },
   {
    "duration": 4,
    "start_time": "2021-11-16T11:10:13.376Z"
   },
   {
    "duration": 3,
    "start_time": "2021-11-16T11:10:14.434Z"
   },
   {
    "duration": 3,
    "start_time": "2021-11-16T11:10:22.853Z"
   },
   {
    "duration": 4,
    "start_time": "2021-11-16T11:27:29.279Z"
   },
   {
    "duration": 4,
    "start_time": "2021-11-16T11:29:08.919Z"
   },
   {
    "duration": 118,
    "start_time": "2021-11-16T11:29:46.703Z"
   },
   {
    "duration": 437,
    "start_time": "2021-11-16T11:36:02.181Z"
   },
   {
    "duration": 157,
    "start_time": "2021-11-16T11:36:14.388Z"
   },
   {
    "duration": 207,
    "start_time": "2021-11-16T11:47:15.898Z"
   },
   {
    "duration": 3,
    "start_time": "2021-11-16T11:53:52.092Z"
   },
   {
    "duration": 3,
    "start_time": "2021-11-16T11:53:52.236Z"
   },
   {
    "duration": 3,
    "start_time": "2021-11-16T11:59:12.005Z"
   },
   {
    "duration": 112,
    "start_time": "2021-11-16T12:00:33.446Z"
   },
   {
    "duration": 3,
    "start_time": "2021-11-16T12:02:14.453Z"
   },
   {
    "duration": 3,
    "start_time": "2021-11-16T12:02:39.512Z"
   },
   {
    "duration": 106,
    "start_time": "2021-11-16T12:03:03.460Z"
   },
   {
    "duration": 3,
    "start_time": "2021-11-17T20:37:21.139Z"
   },
   {
    "duration": 3,
    "start_time": "2021-11-17T20:37:22.229Z"
   },
   {
    "duration": 3,
    "start_time": "2021-11-17T20:38:38.806Z"
   },
   {
    "duration": 3,
    "start_time": "2021-11-17T20:38:41.958Z"
   },
   {
    "duration": 3,
    "start_time": "2021-11-17T20:43:46.551Z"
   },
   {
    "duration": 4,
    "start_time": "2021-11-17T20:58:21.835Z"
   },
   {
    "duration": 3,
    "start_time": "2021-11-17T20:59:21.872Z"
   },
   {
    "duration": 4,
    "start_time": "2021-11-17T20:59:45.352Z"
   },
   {
    "duration": 4,
    "start_time": "2021-11-17T20:59:49.646Z"
   },
   {
    "duration": 159,
    "start_time": "2021-11-17T21:02:26.949Z"
   },
   {
    "duration": 3,
    "start_time": "2021-11-17T21:03:53.461Z"
   },
   {
    "duration": 3,
    "start_time": "2021-11-17T21:03:53.694Z"
   },
   {
    "duration": 3,
    "start_time": "2021-11-17T21:05:28.145Z"
   },
   {
    "duration": 116,
    "start_time": "2021-11-17T21:05:57.787Z"
   },
   {
    "duration": 3,
    "start_time": "2021-11-17T21:06:37.993Z"
   },
   {
    "duration": 3,
    "start_time": "2021-11-17T21:06:38.261Z"
   },
   {
    "duration": 3,
    "start_time": "2021-11-17T21:11:54.358Z"
   },
   {
    "duration": 3,
    "start_time": "2021-11-17T21:12:43.846Z"
   },
   {
    "duration": 4,
    "start_time": "2021-11-17T21:13:08.773Z"
   },
   {
    "duration": 3,
    "start_time": "2021-11-17T21:14:44.441Z"
   },
   {
    "duration": 3,
    "start_time": "2021-11-17T21:15:42.059Z"
   },
   {
    "duration": 4,
    "start_time": "2021-11-17T21:15:51.995Z"
   },
   {
    "duration": 3,
    "start_time": "2021-11-17T21:15:53.923Z"
   },
   {
    "duration": 3,
    "start_time": "2021-11-17T21:15:55.282Z"
   },
   {
    "duration": 3,
    "start_time": "2021-11-17T21:16:28.492Z"
   },
   {
    "duration": 3,
    "start_time": "2021-11-17T21:16:32.603Z"
   },
   {
    "duration": 3,
    "start_time": "2021-11-17T21:17:06.941Z"
   },
   {
    "duration": 98,
    "start_time": "2021-11-17T21:18:05.733Z"
   },
   {
    "duration": 4,
    "start_time": "2021-11-17T21:21:35.255Z"
   },
   {
    "duration": 3,
    "start_time": "2021-11-17T21:21:37.804Z"
   },
   {
    "duration": 4,
    "start_time": "2021-11-17T21:23:06.071Z"
   },
   {
    "duration": 3,
    "start_time": "2021-11-17T21:23:24.799Z"
   },
   {
    "duration": 3,
    "start_time": "2021-11-17T21:23:32.591Z"
   },
   {
    "duration": 98,
    "start_time": "2021-11-17T21:28:31.559Z"
   },
   {
    "duration": 3,
    "start_time": "2021-11-17T21:28:45.448Z"
   },
   {
    "duration": 3,
    "start_time": "2021-11-17T21:29:17.303Z"
   },
   {
    "duration": 3,
    "start_time": "2021-11-17T21:29:29.617Z"
   },
   {
    "duration": 3,
    "start_time": "2021-11-17T21:29:32.681Z"
   },
   {
    "duration": 3,
    "start_time": "2021-11-17T21:36:11.474Z"
   },
   {
    "duration": 3,
    "start_time": "2021-11-17T21:36:14.791Z"
   },
   {
    "duration": 3,
    "start_time": "2021-11-17T21:36:53.943Z"
   },
   {
    "duration": 3,
    "start_time": "2021-11-17T21:36:56.165Z"
   },
   {
    "duration": 4,
    "start_time": "2021-11-17T21:37:16.590Z"
   },
   {
    "duration": 3,
    "start_time": "2021-11-17T21:37:22.702Z"
   },
   {
    "duration": 4,
    "start_time": "2021-11-17T21:38:03.479Z"
   },
   {
    "duration": 3,
    "start_time": "2021-11-17T21:38:08.601Z"
   },
   {
    "duration": 3,
    "start_time": "2021-11-17T21:38:12.928Z"
   },
   {
    "duration": 3,
    "start_time": "2021-11-17T21:38:48.896Z"
   },
   {
    "duration": 2,
    "start_time": "2021-11-17T21:38:49.171Z"
   },
   {
    "duration": 4,
    "start_time": "2021-11-17T21:39:57.889Z"
   },
   {
    "duration": 3,
    "start_time": "2021-11-17T21:39:58.057Z"
   },
   {
    "duration": 3,
    "start_time": "2021-11-17T21:41:20.108Z"
   },
   {
    "duration": 3,
    "start_time": "2021-11-17T21:41:20.629Z"
   },
   {
    "duration": 3,
    "start_time": "2021-11-17T21:42:49.136Z"
   },
   {
    "duration": 3,
    "start_time": "2021-11-17T21:43:15.137Z"
   },
   {
    "duration": 4,
    "start_time": "2021-11-17T21:43:16.766Z"
   },
   {
    "duration": 4,
    "start_time": "2021-11-17T21:43:31.711Z"
   },
   {
    "duration": 3,
    "start_time": "2021-11-17T21:43:36.312Z"
   },
   {
    "duration": 4,
    "start_time": "2021-11-17T21:45:08.825Z"
   },
   {
    "duration": 4,
    "start_time": "2021-11-17T21:45:10.119Z"
   },
   {
    "duration": 4,
    "start_time": "2021-11-17T21:45:13.748Z"
   },
   {
    "duration": 3,
    "start_time": "2021-11-17T21:45:22.219Z"
   },
   {
    "duration": 3,
    "start_time": "2021-11-17T21:45:33.412Z"
   },
   {
    "duration": 2,
    "start_time": "2021-11-17T21:46:01.885Z"
   },
   {
    "duration": 3,
    "start_time": "2021-11-17T21:46:03.628Z"
   },
   {
    "duration": 107,
    "start_time": "2021-11-17T21:47:32.512Z"
   },
   {
    "duration": 103,
    "start_time": "2021-11-17T21:50:36.243Z"
   },
   {
    "duration": 3,
    "start_time": "2021-11-18T06:28:31.440Z"
   },
   {
    "duration": 3,
    "start_time": "2021-11-18T06:29:00.168Z"
   },
   {
    "duration": 3,
    "start_time": "2021-11-18T06:31:27.008Z"
   },
   {
    "duration": 2,
    "start_time": "2021-11-18T06:35:34.288Z"
   },
   {
    "duration": 2,
    "start_time": "2021-11-18T06:38:04.527Z"
   }
  ],
  "colab": {
   "provenance": []
  },
  "kernelspec": {
   "display_name": "Python 3 (ipykernel)",
   "language": "python",
   "name": "python3"
  },
  "language_info": {
   "codemirror_mode": {
    "name": "ipython",
    "version": 3
   },
   "file_extension": ".py",
   "mimetype": "text/x-python",
   "name": "python",
   "nbconvert_exporter": "python",
   "pygments_lexer": "ipython3",
   "version": "3.9.23"
  },
  "toc": {
   "base_numbering": 1,
   "nav_menu": {},
   "number_sections": true,
   "sideBar": true,
   "skip_h1_title": false,
   "title_cell": "Table of Contents",
   "title_sidebar": "Contents",
   "toc_cell": false,
   "toc_position": {},
   "toc_section_display": true,
   "toc_window_display": true
  }
 },
 "nbformat": 4,
 "nbformat_minor": 4
}
